{
  "nbformat": 4,
  "nbformat_minor": 0,
  "metadata": {
    "colab": {
      "provenance": []
    },
    "kernelspec": {
      "name": "python3",
      "display_name": "Python 3"
    },
    "language_info": {
      "name": "python"
    }
  },
  "cells": [
    {
      "cell_type": "markdown",
      "source": [
        "準備：モジュールの導入"
      ],
      "metadata": {
        "id": "bLU7mSoM7POS"
      }
    },
    {
      "cell_type": "code",
      "execution_count": 1,
      "metadata": {
        "id": "M_bCH_ibolKs"
      },
      "outputs": [],
      "source": [
        "import google.colab.drive"
      ]
    },
    {
      "cell_type": "markdown",
      "source": [
        "準備：ドライブ使用準備（ドライブのマウント）"
      ],
      "metadata": {
        "id": "CTPb06y47sAd"
      }
    },
    {
      "cell_type": "code",
      "execution_count": 2,
      "metadata": {
        "id": "N3MUT4YWidCV",
        "colab": {
          "base_uri": "https://localhost:8080/"
        },
        "outputId": "541a3994-6ec6-46c4-99ba-0b04c3591354"
      },
      "outputs": [
        {
          "output_type": "stream",
          "name": "stdout",
          "text": [
            "Mounted at /content/drive/\n"
          ]
        }
      ],
      "source": [
        "google.colab.drive.mount('/content/drive/')"
      ]
    },
    {
      "cell_type": "markdown",
      "source": [
        "メイン処理：ファイルの読み込みと内容の出力"
      ],
      "metadata": {
        "id": "EZ8P_z3e8n8i"
      }
    },
    {
      "cell_type": "code",
      "execution_count": 6,
      "metadata": {
        "id": "BecWIGUlCVh5",
        "colab": {
          "base_uri": "https://localhost:8080/"
        },
        "outputId": "02bd0f81-944e-4829-f11a-96fdc4474122"
      },
      "outputs": [
        {
          "output_type": "stream",
          "name": "stdout",
          "text": [
            "['He', 'drew', 'some', 'money', 'from', 'the', 'bank.']\n",
            "['John', 'got', 'a', 'bank', 'transfer', 'form', 'to', 'make', 'a', 'bank', 'transfer.']\n",
            "['My', 'father', 'had', 'worked', 'as', 'a', 'bank', 'clerk', 'for', 'a', 'long', 'time.']\n",
            "['Someone', 'raided', 'a', 'bank.']\n",
            "['It', 'functions', 'as', 'a', 'data', 'bank.']\n",
            "['They', 'walked', 'along', 'the', 'river', 'bank.']\n",
            "['The', 'city', 'stands', 'on', 'the', 'right', 'bank', 'of', 'the', 'Saine.']\n",
            "['There', 'is', 'a', 'sand', 'bank', 'between', 'the', 'two', 'towns.']\n",
            "['They', 'sat', 'down', 'against', 'the', 'bank', 'by', 'the', 'wayside.']\n",
            "['The', 'heavy', 'rain', 'broke', 'the', 'bank.']\n"
          ]
        }
      ],
      "source": [
        "with open('/content/drive/MyDrive/言語処理技術セミナー2024_NLP_摂南大_20241102/nlpseminar2024/simple_corpus.txt') as f:\n",
        "  for data_line in f:\n",
        "    data_line = data_line.rstrip()\n",
        "    words = data_line.split()\n",
        "    print(words)"
      ]
    },
    {
      "cell_type": "code",
      "source": [
        "with open('/content/drive/MyDrive/言語処理技術セミナー2024_NLP_摂南大_20241102/nlpseminar2024/simple_corpus.txt') as f:\n",
        "  for data_line in f:\n",
        "    data_line = data_line.rstrip()\n",
        "    words = data_line.split(' ')\n",
        "    # 文頭（先頭）の単語\n",
        "    #print(\"文頭の単語:\", words[0])\n",
        "    print(\"文頭の単語:\",words[0]) #文頭の単語\n",
        "    for word in words:\n",
        "        print(word)\n",
        "        l = len(word)\n",
        "        print(l)"
      ],
      "metadata": {
        "colab": {
          "base_uri": "https://localhost:8080/"
        },
        "id": "mGnpncbW1HVF",
        "outputId": "abb117ec-4439-467d-8351-e7669763140b"
      },
      "execution_count": 24,
      "outputs": [
        {
          "output_type": "stream",
          "name": "stdout",
          "text": [
            "文頭の単語: He\n",
            "He\n",
            "2\n",
            "drew\n",
            "4\n",
            "some\n",
            "4\n",
            "money\n",
            "5\n",
            "from\n",
            "4\n",
            "the\n",
            "3\n",
            "bank.\n",
            "5\n",
            "文頭の単語: John\n",
            "John\n",
            "4\n",
            "got\n",
            "3\n",
            "a\n",
            "1\n",
            "bank\n",
            "4\n",
            "transfer\n",
            "8\n",
            "form\n",
            "4\n",
            "to\n",
            "2\n",
            "make\n",
            "4\n",
            "a\n",
            "1\n",
            "bank\n",
            "4\n",
            "transfer.\n",
            "9\n",
            "文頭の単語: My\n",
            "My\n",
            "2\n",
            "father\n",
            "6\n",
            "had\n",
            "3\n",
            "worked\n",
            "6\n",
            "as\n",
            "2\n",
            "a\n",
            "1\n",
            "bank\n",
            "4\n",
            "clerk\n",
            "5\n",
            "for\n",
            "3\n",
            "a\n",
            "1\n",
            "long\n",
            "4\n",
            "time.\n",
            "5\n",
            "文頭の単語: Someone\n",
            "Someone\n",
            "7\n",
            "raided\n",
            "6\n",
            "a\n",
            "1\n",
            "bank.\n",
            "5\n",
            "文頭の単語: It\n",
            "It\n",
            "2\n",
            "functions\n",
            "9\n",
            "as\n",
            "2\n",
            "a\n",
            "1\n",
            "data\n",
            "4\n",
            "bank.\n",
            "5\n",
            "文頭の単語: They\n",
            "They\n",
            "4\n",
            "walked\n",
            "6\n",
            "along\n",
            "5\n",
            "the\n",
            "3\n",
            "river\n",
            "5\n",
            "bank.\n",
            "5\n",
            "文頭の単語: The\n",
            "The\n",
            "3\n",
            "city\n",
            "4\n",
            "stands\n",
            "6\n",
            "on\n",
            "2\n",
            "the\n",
            "3\n",
            "right\n",
            "5\n",
            "bank\n",
            "4\n",
            "of\n",
            "2\n",
            "the\n",
            "3\n",
            "Saine.\n",
            "6\n",
            "文頭の単語: There\n",
            "There\n",
            "5\n",
            "is\n",
            "2\n",
            "a\n",
            "1\n",
            "sand\n",
            "4\n",
            "bank\n",
            "4\n",
            "between\n",
            "7\n",
            "the\n",
            "3\n",
            "two\n",
            "3\n",
            "towns.\n",
            "6\n",
            "文頭の単語: They\n",
            "They\n",
            "4\n",
            "sat\n",
            "3\n",
            "down\n",
            "4\n",
            "against\n",
            "7\n",
            "the\n",
            "3\n",
            "bank\n",
            "4\n",
            "by\n",
            "2\n",
            "the\n",
            "3\n",
            "wayside.\n",
            "8\n",
            "文頭の単語: The\n",
            "The\n",
            "3\n",
            "heavy\n",
            "5\n",
            "rain\n",
            "4\n",
            "broke\n",
            "5\n",
            "the\n",
            "3\n",
            "bank.\n",
            "5\n"
          ]
        }
      ]
    },
    {
      "cell_type": "code",
      "source": [
        "with open('/content/drive/MyDrive/言語処理技術セミナー2024_NLP_摂南大_20241102/nlpseminar2024/simple_corpus.txt') as f:\n",
        "  for data_line in f:\n",
        "    data_line = data_line.rstrip()\n",
        "    words = data_line.split(' ')\n",
        "    # 文頭（先頭）の単語\n",
        "    #print(\"文頭の単語:\", words[0])\n",
        "    print(\"文頭の単語:\",words[0]) #文頭の単語\n",
        "    # for word in words:\n",
        "    #     print(word)\n",
        "    #     l = len(word)\n",
        "    #     print(l)"
      ],
      "metadata": {
        "colab": {
          "base_uri": "https://localhost:8080/"
        },
        "id": "h1TUSrXN4sDy",
        "outputId": "fc633b1f-48e1-47d7-e369-0bf33e9a71c2"
      },
      "execution_count": 30,
      "outputs": [
        {
          "output_type": "stream",
          "name": "stdout",
          "text": [
            "文頭の単語: He\n",
            "文頭の単語: John\n",
            "文頭の単語: My\n",
            "文頭の単語: Someone\n",
            "文頭の単語: It\n",
            "文頭の単語: They\n",
            "文頭の単語: The\n",
            "文頭の単語: There\n",
            "文頭の単語: They\n",
            "文頭の単語: The\n"
          ]
        }
      ]
    },
    {
      "cell_type": "code",
      "source": [
        "with open('/content/drive/MyDrive/言語処理技術セミナー2024_NLP_摂南大_20241102/nlpseminar2024/simple_corpus.txt') as f:\n",
        "  for data_line in f:\n",
        "    data_line = data_line.rstrip()\n",
        "    words = data_line.split(' ')\n",
        "    # 文    頭（先頭）の単語\n",
        "    #print(\"文頭の単語:\", words[0])\n",
        "    #print(\"文頭の単語:\",words[0]) #文頭の単語\n",
        "    #2番目の単語\n",
        "    if len(words) > 1:\n",
        "        print(\"2番目の単語\", words[1])\n",
        "    else:\n",
        "        print(\"2番目の単語: 存在しません\")\n",
        "    # for word in words:\n",
        "    #     print(word)\n",
        "    #     l = len(word)\n",
        "    #     print(l)"
      ],
      "metadata": {
        "colab": {
          "base_uri": "https://localhost:8080/"
        },
        "id": "4FBVcT992JCQ",
        "outputId": "c96c3844-af13-408f-ddc1-f1df02645510"
      },
      "execution_count": 29,
      "outputs": [
        {
          "output_type": "stream",
          "name": "stdout",
          "text": [
            "2番目の単語 drew\n",
            "2番目の単語 got\n",
            "2番目の単語 father\n",
            "2番目の単語 raided\n",
            "2番目の単語 functions\n",
            "2番目の単語 walked\n",
            "2番目の単語 city\n",
            "2番目の単語 is\n",
            "2番目の単語 sat\n",
            "2番目の単語 heavy\n"
          ]
        }
      ]
    },
    {
      "cell_type": "code",
      "source": [
        "with open('/content/drive/MyDrive/言語処理技術セミナー2024_NLP_摂南大_20241102/nlpseminar2024/simple_corpus.txt') as f:\n",
        "  for data_line in f:\n",
        "    data_line = data_line.rstrip()\n",
        "    words = data_line.split(' ')\n",
        "    # 文    頭（先頭）の単語\n",
        "    #print(\"文頭の単語:\", words[0])\n",
        "    #print(\"文頭の単語:\",words[0]) #文頭の単語\n",
        "    #2番目の単語\n",
        "    # if len(words) > 1:\n",
        "    #     print(\"2番目の単語\", words[1])\n",
        "    # else:\n",
        "    #     print(\"2番目の単語: 存在しません\")\n",
        "    #文頭から9番目\n",
        "    print(\"先頭から10個の単語:\", words[:10])\n",
        "    # for word in words:\n",
        "    #     print(word)\n",
        "    #     l = len(word)\n",
        "    #     print(l)"
      ],
      "metadata": {
        "colab": {
          "base_uri": "https://localhost:8080/"
        },
        "id": "3KgUo4hP3GeG",
        "outputId": "844ba2f0-057a-43b8-ef3a-37f478380e96"
      },
      "execution_count": 28,
      "outputs": [
        {
          "output_type": "stream",
          "name": "stdout",
          "text": [
            "先頭から10個の単語: ['He', 'drew', 'some', 'money', 'from', 'the', 'bank.']\n",
            "先頭から10個の単語: ['John', 'got', 'a', 'bank', 'transfer', 'form', 'to', 'make', 'a', 'bank']\n",
            "先頭から10個の単語: ['My', 'father', 'had', 'worked', 'as', 'a', 'bank', 'clerk', 'for', 'a']\n",
            "先頭から10個の単語: ['Someone', 'raided', 'a', 'bank.']\n",
            "先頭から10個の単語: ['It', 'functions', 'as', 'a', 'data', 'bank.']\n",
            "先頭から10個の単語: ['They', 'walked', 'along', 'the', 'river', 'bank.']\n",
            "先頭から10個の単語: ['The', 'city', 'stands', 'on', 'the', 'right', 'bank', 'of', 'the', 'Saine.']\n",
            "先頭から10個の単語: ['There', 'is', 'a', 'sand', 'bank', 'between', 'the', 'two', 'towns.']\n",
            "先頭から10個の単語: ['They', 'sat', 'down', 'against', 'the', 'bank', 'by', 'the', 'wayside.']\n",
            "先頭から10個の単語: ['The', 'heavy', 'rain', 'broke', 'the', 'bank.']\n"
          ]
        }
      ]
    },
    {
      "cell_type": "code",
      "source": [
        "with open('/content/drive/MyDrive/言語処理技術セミナー2024_NLP_摂南大_20241102/nlpseminar2024/simple_corpus.txt') as f:\n",
        "  for data_line in f:\n",
        "    data_line = data_line.rstrip()\n",
        "    words = data_line.split(' ')\n",
        "    print(words)\n",
        "    for word in words:\n",
        "        print(word)\n",
        "        l = len(word)\n",
        "        print(l)"
      ],
      "metadata": {
        "colab": {
          "base_uri": "https://localhost:8080/"
        },
        "id": "-fuDEdNSlwGB",
        "outputId": "315de45a-d964-42ad-f97a-e1dbd99c3181"
      },
      "execution_count": 15,
      "outputs": [
        {
          "output_type": "stream",
          "name": "stdout",
          "text": [
            "['He', 'drew', 'some', 'money', 'from', 'the', 'bank.']\n",
            "He\n",
            "2\n",
            "drew\n",
            "4\n",
            "some\n",
            "4\n",
            "money\n",
            "5\n",
            "from\n",
            "4\n",
            "the\n",
            "3\n",
            "bank.\n",
            "5\n",
            "['John', 'got', 'a', 'bank', 'transfer', 'form', 'to', 'make', 'a', 'bank', 'transfer.']\n",
            "John\n",
            "4\n",
            "got\n",
            "3\n",
            "a\n",
            "1\n",
            "bank\n",
            "4\n",
            "transfer\n",
            "8\n",
            "form\n",
            "4\n",
            "to\n",
            "2\n",
            "make\n",
            "4\n",
            "a\n",
            "1\n",
            "bank\n",
            "4\n",
            "transfer.\n",
            "9\n",
            "['My', 'father', 'had', 'worked', 'as', 'a', 'bank', 'clerk', 'for', 'a', 'long', 'time.']\n",
            "My\n",
            "2\n",
            "father\n",
            "6\n",
            "had\n",
            "3\n",
            "worked\n",
            "6\n",
            "as\n",
            "2\n",
            "a\n",
            "1\n",
            "bank\n",
            "4\n",
            "clerk\n",
            "5\n",
            "for\n",
            "3\n",
            "a\n",
            "1\n",
            "long\n",
            "4\n",
            "time.\n",
            "5\n",
            "['Someone', 'raided', 'a', 'bank.']\n",
            "Someone\n",
            "7\n",
            "raided\n",
            "6\n",
            "a\n",
            "1\n",
            "bank.\n",
            "5\n",
            "['It', 'functions', 'as', 'a', 'data', 'bank.']\n",
            "It\n",
            "2\n",
            "functions\n",
            "9\n",
            "as\n",
            "2\n",
            "a\n",
            "1\n",
            "data\n",
            "4\n",
            "bank.\n",
            "5\n",
            "['They', 'walked', 'along', 'the', 'river', 'bank.']\n",
            "They\n",
            "4\n",
            "walked\n",
            "6\n",
            "along\n",
            "5\n",
            "the\n",
            "3\n",
            "river\n",
            "5\n",
            "bank.\n",
            "5\n",
            "['The', 'city', 'stands', 'on', 'the', 'right', 'bank', 'of', 'the', 'Saine.']\n",
            "The\n",
            "3\n",
            "city\n",
            "4\n",
            "stands\n",
            "6\n",
            "on\n",
            "2\n",
            "the\n",
            "3\n",
            "right\n",
            "5\n",
            "bank\n",
            "4\n",
            "of\n",
            "2\n",
            "the\n",
            "3\n",
            "Saine.\n",
            "6\n",
            "['There', 'is', 'a', 'sand', 'bank', 'between', 'the', 'two', 'towns.']\n",
            "There\n",
            "5\n",
            "is\n",
            "2\n",
            "a\n",
            "1\n",
            "sand\n",
            "4\n",
            "bank\n",
            "4\n",
            "between\n",
            "7\n",
            "the\n",
            "3\n",
            "two\n",
            "3\n",
            "towns.\n",
            "6\n",
            "['They', 'sat', 'down', 'against', 'the', 'bank', 'by', 'the', 'wayside.']\n",
            "They\n",
            "4\n",
            "sat\n",
            "3\n",
            "down\n",
            "4\n",
            "against\n",
            "7\n",
            "the\n",
            "3\n",
            "bank\n",
            "4\n",
            "by\n",
            "2\n",
            "the\n",
            "3\n",
            "wayside.\n",
            "8\n",
            "['The', 'heavy', 'rain', 'broke', 'the', 'bank.']\n",
            "The\n",
            "3\n",
            "heavy\n",
            "5\n",
            "rain\n",
            "4\n",
            "broke\n",
            "5\n",
            "the\n",
            "3\n",
            "bank.\n",
            "5\n"
          ]
        }
      ]
    },
    {
      "cell_type": "code",
      "source": [
        "word_lengths =[]\n",
        "with open('/content/drive/MyDrive/言語処理技術セミナー2024_NLP_摂南大_20241102/nlpseminar2024/simple_corpus.txt') as f:\n",
        "  for data_line in f:\n",
        "    data_line = data_line.rstrip()\n",
        "    words = data_line.split(' ')\n",
        "    print(words)\n",
        "    for word in words:\n",
        "        print(word)\n",
        "        l = len(word)\n",
        "        #print(l)\n",
        "        word_lengths.append(l)\n",
        "\n",
        "        print(word_lengths)"
      ],
      "metadata": {
        "colab": {
          "base_uri": "https://localhost:8080/"
        },
        "id": "5yO21nzXoY1q",
        "outputId": "594469e5-1f5b-4ed3-e157-953de45af120"
      },
      "execution_count": 18,
      "outputs": [
        {
          "output_type": "stream",
          "name": "stdout",
          "text": [
            "['He', 'drew', 'some', 'money', 'from', 'the', 'bank.']\n",
            "He\n",
            "[2]\n",
            "drew\n",
            "[2, 4]\n",
            "some\n",
            "[2, 4, 4]\n",
            "money\n",
            "[2, 4, 4, 5]\n",
            "from\n",
            "[2, 4, 4, 5, 4]\n",
            "the\n",
            "[2, 4, 4, 5, 4, 3]\n",
            "bank.\n",
            "[2, 4, 4, 5, 4, 3, 5]\n",
            "['John', 'got', 'a', 'bank', 'transfer', 'form', 'to', 'make', 'a', 'bank', 'transfer.']\n",
            "John\n",
            "[2, 4, 4, 5, 4, 3, 5, 4]\n",
            "got\n",
            "[2, 4, 4, 5, 4, 3, 5, 4, 3]\n",
            "a\n",
            "[2, 4, 4, 5, 4, 3, 5, 4, 3, 1]\n",
            "bank\n",
            "[2, 4, 4, 5, 4, 3, 5, 4, 3, 1, 4]\n",
            "transfer\n",
            "[2, 4, 4, 5, 4, 3, 5, 4, 3, 1, 4, 8]\n",
            "form\n",
            "[2, 4, 4, 5, 4, 3, 5, 4, 3, 1, 4, 8, 4]\n",
            "to\n",
            "[2, 4, 4, 5, 4, 3, 5, 4, 3, 1, 4, 8, 4, 2]\n",
            "make\n",
            "[2, 4, 4, 5, 4, 3, 5, 4, 3, 1, 4, 8, 4, 2, 4]\n",
            "a\n",
            "[2, 4, 4, 5, 4, 3, 5, 4, 3, 1, 4, 8, 4, 2, 4, 1]\n",
            "bank\n",
            "[2, 4, 4, 5, 4, 3, 5, 4, 3, 1, 4, 8, 4, 2, 4, 1, 4]\n",
            "transfer.\n",
            "[2, 4, 4, 5, 4, 3, 5, 4, 3, 1, 4, 8, 4, 2, 4, 1, 4, 9]\n",
            "['My', 'father', 'had', 'worked', 'as', 'a', 'bank', 'clerk', 'for', 'a', 'long', 'time.']\n",
            "My\n",
            "[2, 4, 4, 5, 4, 3, 5, 4, 3, 1, 4, 8, 4, 2, 4, 1, 4, 9, 2]\n",
            "father\n",
            "[2, 4, 4, 5, 4, 3, 5, 4, 3, 1, 4, 8, 4, 2, 4, 1, 4, 9, 2, 6]\n",
            "had\n",
            "[2, 4, 4, 5, 4, 3, 5, 4, 3, 1, 4, 8, 4, 2, 4, 1, 4, 9, 2, 6, 3]\n",
            "worked\n",
            "[2, 4, 4, 5, 4, 3, 5, 4, 3, 1, 4, 8, 4, 2, 4, 1, 4, 9, 2, 6, 3, 6]\n",
            "as\n",
            "[2, 4, 4, 5, 4, 3, 5, 4, 3, 1, 4, 8, 4, 2, 4, 1, 4, 9, 2, 6, 3, 6, 2]\n",
            "a\n",
            "[2, 4, 4, 5, 4, 3, 5, 4, 3, 1, 4, 8, 4, 2, 4, 1, 4, 9, 2, 6, 3, 6, 2, 1]\n",
            "bank\n",
            "[2, 4, 4, 5, 4, 3, 5, 4, 3, 1, 4, 8, 4, 2, 4, 1, 4, 9, 2, 6, 3, 6, 2, 1, 4]\n",
            "clerk\n",
            "[2, 4, 4, 5, 4, 3, 5, 4, 3, 1, 4, 8, 4, 2, 4, 1, 4, 9, 2, 6, 3, 6, 2, 1, 4, 5]\n",
            "for\n",
            "[2, 4, 4, 5, 4, 3, 5, 4, 3, 1, 4, 8, 4, 2, 4, 1, 4, 9, 2, 6, 3, 6, 2, 1, 4, 5, 3]\n",
            "a\n",
            "[2, 4, 4, 5, 4, 3, 5, 4, 3, 1, 4, 8, 4, 2, 4, 1, 4, 9, 2, 6, 3, 6, 2, 1, 4, 5, 3, 1]\n",
            "long\n",
            "[2, 4, 4, 5, 4, 3, 5, 4, 3, 1, 4, 8, 4, 2, 4, 1, 4, 9, 2, 6, 3, 6, 2, 1, 4, 5, 3, 1, 4]\n",
            "time.\n",
            "[2, 4, 4, 5, 4, 3, 5, 4, 3, 1, 4, 8, 4, 2, 4, 1, 4, 9, 2, 6, 3, 6, 2, 1, 4, 5, 3, 1, 4, 5]\n",
            "['Someone', 'raided', 'a', 'bank.']\n",
            "Someone\n",
            "[2, 4, 4, 5, 4, 3, 5, 4, 3, 1, 4, 8, 4, 2, 4, 1, 4, 9, 2, 6, 3, 6, 2, 1, 4, 5, 3, 1, 4, 5, 7]\n",
            "raided\n",
            "[2, 4, 4, 5, 4, 3, 5, 4, 3, 1, 4, 8, 4, 2, 4, 1, 4, 9, 2, 6, 3, 6, 2, 1, 4, 5, 3, 1, 4, 5, 7, 6]\n",
            "a\n",
            "[2, 4, 4, 5, 4, 3, 5, 4, 3, 1, 4, 8, 4, 2, 4, 1, 4, 9, 2, 6, 3, 6, 2, 1, 4, 5, 3, 1, 4, 5, 7, 6, 1]\n",
            "bank.\n",
            "[2, 4, 4, 5, 4, 3, 5, 4, 3, 1, 4, 8, 4, 2, 4, 1, 4, 9, 2, 6, 3, 6, 2, 1, 4, 5, 3, 1, 4, 5, 7, 6, 1, 5]\n",
            "['It', 'functions', 'as', 'a', 'data', 'bank.']\n",
            "It\n",
            "[2, 4, 4, 5, 4, 3, 5, 4, 3, 1, 4, 8, 4, 2, 4, 1, 4, 9, 2, 6, 3, 6, 2, 1, 4, 5, 3, 1, 4, 5, 7, 6, 1, 5, 2]\n",
            "functions\n",
            "[2, 4, 4, 5, 4, 3, 5, 4, 3, 1, 4, 8, 4, 2, 4, 1, 4, 9, 2, 6, 3, 6, 2, 1, 4, 5, 3, 1, 4, 5, 7, 6, 1, 5, 2, 9]\n",
            "as\n",
            "[2, 4, 4, 5, 4, 3, 5, 4, 3, 1, 4, 8, 4, 2, 4, 1, 4, 9, 2, 6, 3, 6, 2, 1, 4, 5, 3, 1, 4, 5, 7, 6, 1, 5, 2, 9, 2]\n",
            "a\n",
            "[2, 4, 4, 5, 4, 3, 5, 4, 3, 1, 4, 8, 4, 2, 4, 1, 4, 9, 2, 6, 3, 6, 2, 1, 4, 5, 3, 1, 4, 5, 7, 6, 1, 5, 2, 9, 2, 1]\n",
            "data\n",
            "[2, 4, 4, 5, 4, 3, 5, 4, 3, 1, 4, 8, 4, 2, 4, 1, 4, 9, 2, 6, 3, 6, 2, 1, 4, 5, 3, 1, 4, 5, 7, 6, 1, 5, 2, 9, 2, 1, 4]\n",
            "bank.\n",
            "[2, 4, 4, 5, 4, 3, 5, 4, 3, 1, 4, 8, 4, 2, 4, 1, 4, 9, 2, 6, 3, 6, 2, 1, 4, 5, 3, 1, 4, 5, 7, 6, 1, 5, 2, 9, 2, 1, 4, 5]\n",
            "['They', 'walked', 'along', 'the', 'river', 'bank.']\n",
            "They\n",
            "[2, 4, 4, 5, 4, 3, 5, 4, 3, 1, 4, 8, 4, 2, 4, 1, 4, 9, 2, 6, 3, 6, 2, 1, 4, 5, 3, 1, 4, 5, 7, 6, 1, 5, 2, 9, 2, 1, 4, 5, 4]\n",
            "walked\n",
            "[2, 4, 4, 5, 4, 3, 5, 4, 3, 1, 4, 8, 4, 2, 4, 1, 4, 9, 2, 6, 3, 6, 2, 1, 4, 5, 3, 1, 4, 5, 7, 6, 1, 5, 2, 9, 2, 1, 4, 5, 4, 6]\n",
            "along\n",
            "[2, 4, 4, 5, 4, 3, 5, 4, 3, 1, 4, 8, 4, 2, 4, 1, 4, 9, 2, 6, 3, 6, 2, 1, 4, 5, 3, 1, 4, 5, 7, 6, 1, 5, 2, 9, 2, 1, 4, 5, 4, 6, 5]\n",
            "the\n",
            "[2, 4, 4, 5, 4, 3, 5, 4, 3, 1, 4, 8, 4, 2, 4, 1, 4, 9, 2, 6, 3, 6, 2, 1, 4, 5, 3, 1, 4, 5, 7, 6, 1, 5, 2, 9, 2, 1, 4, 5, 4, 6, 5, 3]\n",
            "river\n",
            "[2, 4, 4, 5, 4, 3, 5, 4, 3, 1, 4, 8, 4, 2, 4, 1, 4, 9, 2, 6, 3, 6, 2, 1, 4, 5, 3, 1, 4, 5, 7, 6, 1, 5, 2, 9, 2, 1, 4, 5, 4, 6, 5, 3, 5]\n",
            "bank.\n",
            "[2, 4, 4, 5, 4, 3, 5, 4, 3, 1, 4, 8, 4, 2, 4, 1, 4, 9, 2, 6, 3, 6, 2, 1, 4, 5, 3, 1, 4, 5, 7, 6, 1, 5, 2, 9, 2, 1, 4, 5, 4, 6, 5, 3, 5, 5]\n",
            "['The', 'city', 'stands', 'on', 'the', 'right', 'bank', 'of', 'the', 'Saine.']\n",
            "The\n",
            "[2, 4, 4, 5, 4, 3, 5, 4, 3, 1, 4, 8, 4, 2, 4, 1, 4, 9, 2, 6, 3, 6, 2, 1, 4, 5, 3, 1, 4, 5, 7, 6, 1, 5, 2, 9, 2, 1, 4, 5, 4, 6, 5, 3, 5, 5, 3]\n",
            "city\n",
            "[2, 4, 4, 5, 4, 3, 5, 4, 3, 1, 4, 8, 4, 2, 4, 1, 4, 9, 2, 6, 3, 6, 2, 1, 4, 5, 3, 1, 4, 5, 7, 6, 1, 5, 2, 9, 2, 1, 4, 5, 4, 6, 5, 3, 5, 5, 3, 4]\n",
            "stands\n",
            "[2, 4, 4, 5, 4, 3, 5, 4, 3, 1, 4, 8, 4, 2, 4, 1, 4, 9, 2, 6, 3, 6, 2, 1, 4, 5, 3, 1, 4, 5, 7, 6, 1, 5, 2, 9, 2, 1, 4, 5, 4, 6, 5, 3, 5, 5, 3, 4, 6]\n",
            "on\n",
            "[2, 4, 4, 5, 4, 3, 5, 4, 3, 1, 4, 8, 4, 2, 4, 1, 4, 9, 2, 6, 3, 6, 2, 1, 4, 5, 3, 1, 4, 5, 7, 6, 1, 5, 2, 9, 2, 1, 4, 5, 4, 6, 5, 3, 5, 5, 3, 4, 6, 2]\n",
            "the\n",
            "[2, 4, 4, 5, 4, 3, 5, 4, 3, 1, 4, 8, 4, 2, 4, 1, 4, 9, 2, 6, 3, 6, 2, 1, 4, 5, 3, 1, 4, 5, 7, 6, 1, 5, 2, 9, 2, 1, 4, 5, 4, 6, 5, 3, 5, 5, 3, 4, 6, 2, 3]\n",
            "right\n",
            "[2, 4, 4, 5, 4, 3, 5, 4, 3, 1, 4, 8, 4, 2, 4, 1, 4, 9, 2, 6, 3, 6, 2, 1, 4, 5, 3, 1, 4, 5, 7, 6, 1, 5, 2, 9, 2, 1, 4, 5, 4, 6, 5, 3, 5, 5, 3, 4, 6, 2, 3, 5]\n",
            "bank\n",
            "[2, 4, 4, 5, 4, 3, 5, 4, 3, 1, 4, 8, 4, 2, 4, 1, 4, 9, 2, 6, 3, 6, 2, 1, 4, 5, 3, 1, 4, 5, 7, 6, 1, 5, 2, 9, 2, 1, 4, 5, 4, 6, 5, 3, 5, 5, 3, 4, 6, 2, 3, 5, 4]\n",
            "of\n",
            "[2, 4, 4, 5, 4, 3, 5, 4, 3, 1, 4, 8, 4, 2, 4, 1, 4, 9, 2, 6, 3, 6, 2, 1, 4, 5, 3, 1, 4, 5, 7, 6, 1, 5, 2, 9, 2, 1, 4, 5, 4, 6, 5, 3, 5, 5, 3, 4, 6, 2, 3, 5, 4, 2]\n",
            "the\n",
            "[2, 4, 4, 5, 4, 3, 5, 4, 3, 1, 4, 8, 4, 2, 4, 1, 4, 9, 2, 6, 3, 6, 2, 1, 4, 5, 3, 1, 4, 5, 7, 6, 1, 5, 2, 9, 2, 1, 4, 5, 4, 6, 5, 3, 5, 5, 3, 4, 6, 2, 3, 5, 4, 2, 3]\n",
            "Saine.\n",
            "[2, 4, 4, 5, 4, 3, 5, 4, 3, 1, 4, 8, 4, 2, 4, 1, 4, 9, 2, 6, 3, 6, 2, 1, 4, 5, 3, 1, 4, 5, 7, 6, 1, 5, 2, 9, 2, 1, 4, 5, 4, 6, 5, 3, 5, 5, 3, 4, 6, 2, 3, 5, 4, 2, 3, 6]\n",
            "['There', 'is', 'a', 'sand', 'bank', 'between', 'the', 'two', 'towns.']\n",
            "There\n",
            "[2, 4, 4, 5, 4, 3, 5, 4, 3, 1, 4, 8, 4, 2, 4, 1, 4, 9, 2, 6, 3, 6, 2, 1, 4, 5, 3, 1, 4, 5, 7, 6, 1, 5, 2, 9, 2, 1, 4, 5, 4, 6, 5, 3, 5, 5, 3, 4, 6, 2, 3, 5, 4, 2, 3, 6, 5]\n",
            "is\n",
            "[2, 4, 4, 5, 4, 3, 5, 4, 3, 1, 4, 8, 4, 2, 4, 1, 4, 9, 2, 6, 3, 6, 2, 1, 4, 5, 3, 1, 4, 5, 7, 6, 1, 5, 2, 9, 2, 1, 4, 5, 4, 6, 5, 3, 5, 5, 3, 4, 6, 2, 3, 5, 4, 2, 3, 6, 5, 2]\n",
            "a\n",
            "[2, 4, 4, 5, 4, 3, 5, 4, 3, 1, 4, 8, 4, 2, 4, 1, 4, 9, 2, 6, 3, 6, 2, 1, 4, 5, 3, 1, 4, 5, 7, 6, 1, 5, 2, 9, 2, 1, 4, 5, 4, 6, 5, 3, 5, 5, 3, 4, 6, 2, 3, 5, 4, 2, 3, 6, 5, 2, 1]\n",
            "sand\n",
            "[2, 4, 4, 5, 4, 3, 5, 4, 3, 1, 4, 8, 4, 2, 4, 1, 4, 9, 2, 6, 3, 6, 2, 1, 4, 5, 3, 1, 4, 5, 7, 6, 1, 5, 2, 9, 2, 1, 4, 5, 4, 6, 5, 3, 5, 5, 3, 4, 6, 2, 3, 5, 4, 2, 3, 6, 5, 2, 1, 4]\n",
            "bank\n",
            "[2, 4, 4, 5, 4, 3, 5, 4, 3, 1, 4, 8, 4, 2, 4, 1, 4, 9, 2, 6, 3, 6, 2, 1, 4, 5, 3, 1, 4, 5, 7, 6, 1, 5, 2, 9, 2, 1, 4, 5, 4, 6, 5, 3, 5, 5, 3, 4, 6, 2, 3, 5, 4, 2, 3, 6, 5, 2, 1, 4, 4]\n",
            "between\n",
            "[2, 4, 4, 5, 4, 3, 5, 4, 3, 1, 4, 8, 4, 2, 4, 1, 4, 9, 2, 6, 3, 6, 2, 1, 4, 5, 3, 1, 4, 5, 7, 6, 1, 5, 2, 9, 2, 1, 4, 5, 4, 6, 5, 3, 5, 5, 3, 4, 6, 2, 3, 5, 4, 2, 3, 6, 5, 2, 1, 4, 4, 7]\n",
            "the\n",
            "[2, 4, 4, 5, 4, 3, 5, 4, 3, 1, 4, 8, 4, 2, 4, 1, 4, 9, 2, 6, 3, 6, 2, 1, 4, 5, 3, 1, 4, 5, 7, 6, 1, 5, 2, 9, 2, 1, 4, 5, 4, 6, 5, 3, 5, 5, 3, 4, 6, 2, 3, 5, 4, 2, 3, 6, 5, 2, 1, 4, 4, 7, 3]\n",
            "two\n",
            "[2, 4, 4, 5, 4, 3, 5, 4, 3, 1, 4, 8, 4, 2, 4, 1, 4, 9, 2, 6, 3, 6, 2, 1, 4, 5, 3, 1, 4, 5, 7, 6, 1, 5, 2, 9, 2, 1, 4, 5, 4, 6, 5, 3, 5, 5, 3, 4, 6, 2, 3, 5, 4, 2, 3, 6, 5, 2, 1, 4, 4, 7, 3, 3]\n",
            "towns.\n",
            "[2, 4, 4, 5, 4, 3, 5, 4, 3, 1, 4, 8, 4, 2, 4, 1, 4, 9, 2, 6, 3, 6, 2, 1, 4, 5, 3, 1, 4, 5, 7, 6, 1, 5, 2, 9, 2, 1, 4, 5, 4, 6, 5, 3, 5, 5, 3, 4, 6, 2, 3, 5, 4, 2, 3, 6, 5, 2, 1, 4, 4, 7, 3, 3, 6]\n",
            "['They', 'sat', 'down', 'against', 'the', 'bank', 'by', 'the', 'wayside.']\n",
            "They\n",
            "[2, 4, 4, 5, 4, 3, 5, 4, 3, 1, 4, 8, 4, 2, 4, 1, 4, 9, 2, 6, 3, 6, 2, 1, 4, 5, 3, 1, 4, 5, 7, 6, 1, 5, 2, 9, 2, 1, 4, 5, 4, 6, 5, 3, 5, 5, 3, 4, 6, 2, 3, 5, 4, 2, 3, 6, 5, 2, 1, 4, 4, 7, 3, 3, 6, 4]\n",
            "sat\n",
            "[2, 4, 4, 5, 4, 3, 5, 4, 3, 1, 4, 8, 4, 2, 4, 1, 4, 9, 2, 6, 3, 6, 2, 1, 4, 5, 3, 1, 4, 5, 7, 6, 1, 5, 2, 9, 2, 1, 4, 5, 4, 6, 5, 3, 5, 5, 3, 4, 6, 2, 3, 5, 4, 2, 3, 6, 5, 2, 1, 4, 4, 7, 3, 3, 6, 4, 3]\n",
            "down\n",
            "[2, 4, 4, 5, 4, 3, 5, 4, 3, 1, 4, 8, 4, 2, 4, 1, 4, 9, 2, 6, 3, 6, 2, 1, 4, 5, 3, 1, 4, 5, 7, 6, 1, 5, 2, 9, 2, 1, 4, 5, 4, 6, 5, 3, 5, 5, 3, 4, 6, 2, 3, 5, 4, 2, 3, 6, 5, 2, 1, 4, 4, 7, 3, 3, 6, 4, 3, 4]\n",
            "against\n",
            "[2, 4, 4, 5, 4, 3, 5, 4, 3, 1, 4, 8, 4, 2, 4, 1, 4, 9, 2, 6, 3, 6, 2, 1, 4, 5, 3, 1, 4, 5, 7, 6, 1, 5, 2, 9, 2, 1, 4, 5, 4, 6, 5, 3, 5, 5, 3, 4, 6, 2, 3, 5, 4, 2, 3, 6, 5, 2, 1, 4, 4, 7, 3, 3, 6, 4, 3, 4, 7]\n",
            "the\n",
            "[2, 4, 4, 5, 4, 3, 5, 4, 3, 1, 4, 8, 4, 2, 4, 1, 4, 9, 2, 6, 3, 6, 2, 1, 4, 5, 3, 1, 4, 5, 7, 6, 1, 5, 2, 9, 2, 1, 4, 5, 4, 6, 5, 3, 5, 5, 3, 4, 6, 2, 3, 5, 4, 2, 3, 6, 5, 2, 1, 4, 4, 7, 3, 3, 6, 4, 3, 4, 7, 3]\n",
            "bank\n",
            "[2, 4, 4, 5, 4, 3, 5, 4, 3, 1, 4, 8, 4, 2, 4, 1, 4, 9, 2, 6, 3, 6, 2, 1, 4, 5, 3, 1, 4, 5, 7, 6, 1, 5, 2, 9, 2, 1, 4, 5, 4, 6, 5, 3, 5, 5, 3, 4, 6, 2, 3, 5, 4, 2, 3, 6, 5, 2, 1, 4, 4, 7, 3, 3, 6, 4, 3, 4, 7, 3, 4]\n",
            "by\n",
            "[2, 4, 4, 5, 4, 3, 5, 4, 3, 1, 4, 8, 4, 2, 4, 1, 4, 9, 2, 6, 3, 6, 2, 1, 4, 5, 3, 1, 4, 5, 7, 6, 1, 5, 2, 9, 2, 1, 4, 5, 4, 6, 5, 3, 5, 5, 3, 4, 6, 2, 3, 5, 4, 2, 3, 6, 5, 2, 1, 4, 4, 7, 3, 3, 6, 4, 3, 4, 7, 3, 4, 2]\n",
            "the\n",
            "[2, 4, 4, 5, 4, 3, 5, 4, 3, 1, 4, 8, 4, 2, 4, 1, 4, 9, 2, 6, 3, 6, 2, 1, 4, 5, 3, 1, 4, 5, 7, 6, 1, 5, 2, 9, 2, 1, 4, 5, 4, 6, 5, 3, 5, 5, 3, 4, 6, 2, 3, 5, 4, 2, 3, 6, 5, 2, 1, 4, 4, 7, 3, 3, 6, 4, 3, 4, 7, 3, 4, 2, 3]\n",
            "wayside.\n",
            "[2, 4, 4, 5, 4, 3, 5, 4, 3, 1, 4, 8, 4, 2, 4, 1, 4, 9, 2, 6, 3, 6, 2, 1, 4, 5, 3, 1, 4, 5, 7, 6, 1, 5, 2, 9, 2, 1, 4, 5, 4, 6, 5, 3, 5, 5, 3, 4, 6, 2, 3, 5, 4, 2, 3, 6, 5, 2, 1, 4, 4, 7, 3, 3, 6, 4, 3, 4, 7, 3, 4, 2, 3, 8]\n",
            "['The', 'heavy', 'rain', 'broke', 'the', 'bank.']\n",
            "The\n",
            "[2, 4, 4, 5, 4, 3, 5, 4, 3, 1, 4, 8, 4, 2, 4, 1, 4, 9, 2, 6, 3, 6, 2, 1, 4, 5, 3, 1, 4, 5, 7, 6, 1, 5, 2, 9, 2, 1, 4, 5, 4, 6, 5, 3, 5, 5, 3, 4, 6, 2, 3, 5, 4, 2, 3, 6, 5, 2, 1, 4, 4, 7, 3, 3, 6, 4, 3, 4, 7, 3, 4, 2, 3, 8, 3]\n",
            "heavy\n",
            "[2, 4, 4, 5, 4, 3, 5, 4, 3, 1, 4, 8, 4, 2, 4, 1, 4, 9, 2, 6, 3, 6, 2, 1, 4, 5, 3, 1, 4, 5, 7, 6, 1, 5, 2, 9, 2, 1, 4, 5, 4, 6, 5, 3, 5, 5, 3, 4, 6, 2, 3, 5, 4, 2, 3, 6, 5, 2, 1, 4, 4, 7, 3, 3, 6, 4, 3, 4, 7, 3, 4, 2, 3, 8, 3, 5]\n",
            "rain\n",
            "[2, 4, 4, 5, 4, 3, 5, 4, 3, 1, 4, 8, 4, 2, 4, 1, 4, 9, 2, 6, 3, 6, 2, 1, 4, 5, 3, 1, 4, 5, 7, 6, 1, 5, 2, 9, 2, 1, 4, 5, 4, 6, 5, 3, 5, 5, 3, 4, 6, 2, 3, 5, 4, 2, 3, 6, 5, 2, 1, 4, 4, 7, 3, 3, 6, 4, 3, 4, 7, 3, 4, 2, 3, 8, 3, 5, 4]\n",
            "broke\n",
            "[2, 4, 4, 5, 4, 3, 5, 4, 3, 1, 4, 8, 4, 2, 4, 1, 4, 9, 2, 6, 3, 6, 2, 1, 4, 5, 3, 1, 4, 5, 7, 6, 1, 5, 2, 9, 2, 1, 4, 5, 4, 6, 5, 3, 5, 5, 3, 4, 6, 2, 3, 5, 4, 2, 3, 6, 5, 2, 1, 4, 4, 7, 3, 3, 6, 4, 3, 4, 7, 3, 4, 2, 3, 8, 3, 5, 4, 5]\n",
            "the\n",
            "[2, 4, 4, 5, 4, 3, 5, 4, 3, 1, 4, 8, 4, 2, 4, 1, 4, 9, 2, 6, 3, 6, 2, 1, 4, 5, 3, 1, 4, 5, 7, 6, 1, 5, 2, 9, 2, 1, 4, 5, 4, 6, 5, 3, 5, 5, 3, 4, 6, 2, 3, 5, 4, 2, 3, 6, 5, 2, 1, 4, 4, 7, 3, 3, 6, 4, 3, 4, 7, 3, 4, 2, 3, 8, 3, 5, 4, 5, 3]\n",
            "bank.\n",
            "[2, 4, 4, 5, 4, 3, 5, 4, 3, 1, 4, 8, 4, 2, 4, 1, 4, 9, 2, 6, 3, 6, 2, 1, 4, 5, 3, 1, 4, 5, 7, 6, 1, 5, 2, 9, 2, 1, 4, 5, 4, 6, 5, 3, 5, 5, 3, 4, 6, 2, 3, 5, 4, 2, 3, 6, 5, 2, 1, 4, 4, 7, 3, 3, 6, 4, 3, 4, 7, 3, 4, 2, 3, 8, 3, 5, 4, 5, 3, 5]\n"
          ]
        }
      ]
    },
    {
      "cell_type": "code",
      "source": [
        "import matplotlib.pyplot as plt #描画用モジュールの読み込み\n",
        "plt.hist(word_lengths, bins=20) #区間は20個\n",
        "plt.show() #画面表示"
      ],
      "metadata": {
        "colab": {
          "base_uri": "https://localhost:8080/",
          "height": 430
        },
        "id": "bbknm-p6ohSH",
        "outputId": "57e873ff-a822-462e-a312-8328f5628931"
      },
      "execution_count": 21,
      "outputs": [
        {
          "output_type": "display_data",
          "data": {
            "text/plain": [
              "<Figure size 640x480 with 1 Axes>"
            ],
            "image/png": "[encoded data removed]"
          },
          "metadata": {}
        }
      ]
    },
    {
      "cell_type": "code",
      "source": [
        "import matplotlib.pyplot as plt #描画用モジュールの読み込み\n",
        "plt.hist(word_lengths, color='black', bins=18) #区間は20個\n",
        "plt.show() #画面表示"
      ],
      "metadata": {
        "colab": {
          "base_uri": "https://localhost:8080/",
          "height": 429
        },
        "id": "afoAFSuXCK24",
        "outputId": "4b2b8541-3142-43e3-9047-70a7659f86c0"
      },
      "execution_count": 41,
      "outputs": [
        {
          "output_type": "display_data",
          "data": {
            "text/plain": [
              "<Figure size 640x480 with 1 Axes>"
            ],
            "image/png": "[encoded data removed]"
          },
          "metadata": {}
        }
      ]
    },
    {
      "cell_type": "code",
      "source": [
        "import matplotlib.font_manager as fm\n",
        "\n",
        "# 使用可能なフォントを表示\n",
        "for font in fm.findSystemFonts(fontpaths=None, fontext='ttf'):\n",
        "    print(font)"
      ],
      "metadata": {
        "colab": {
          "base_uri": "https://localhost:8080/"
        },
        "id": "cx6p1MNL6z6B",
        "outputId": "269ecf9e-adef-473a-8a12-816cae137ef5"
      },
      "execution_count": 34,
      "outputs": [
        {
          "output_type": "stream",
          "name": "stdout",
          "text": [
            "/usr/share/fonts/truetype/liberation/LiberationSansNarrow-Regular.ttf\n",
            "/usr/share/fonts/truetype/liberation/LiberationMono-BoldItalic.ttf\n",
            "/usr/share/fonts/truetype/liberation/LiberationSerif-Italic.ttf\n",
            "/usr/share/fonts/truetype/liberation/LiberationSans-BoldItalic.ttf\n",
            "/usr/share/fonts/truetype/liberation/LiberationSansNarrow-Bold.ttf\n",
            "/usr/share/fonts/truetype/liberation/LiberationSansNarrow-BoldItalic.ttf\n",
            "/usr/share/fonts/truetype/liberation/LiberationSansNarrow-Italic.ttf\n",
            "/usr/share/fonts/truetype/liberation/LiberationSans-Regular.ttf\n",
            "/usr/share/fonts/truetype/liberation/LiberationSerif-Regular.ttf\n",
            "/usr/share/fonts/truetype/liberation/LiberationSans-Italic.ttf\n",
            "/usr/share/fonts/truetype/liberation/LiberationMono-Regular.ttf\n",
            "/usr/share/fonts/truetype/liberation/LiberationMono-Bold.ttf\n",
            "/usr/share/fonts/truetype/liberation/LiberationMono-Italic.ttf\n",
            "/usr/share/fonts/truetype/humor-sans/Humor-Sans.ttf\n",
            "/usr/share/fonts/truetype/liberation/LiberationSerif-BoldItalic.ttf\n",
            "/usr/share/fonts/truetype/liberation/LiberationSans-Bold.ttf\n",
            "/usr/share/fonts/truetype/liberation/LiberationSerif-Bold.ttf\n"
          ]
        }
      ]
    },
    {
      "cell_type": "code",
      "source": [
        "!pip install japanize-matplotlib\n",
        "import matplotlib.pyplot as plt\n",
        "import japanize_matplotlib  # <- これ\n",
        "\n",
        "plt.plot([1, 2, 3, 4])\n",
        "plt.xlabel('簡単なグラフ')\n",
        "plt.show()"
      ],
      "metadata": {
        "colab": {
          "base_uri": "https://localhost:8080/",
          "height": 683
        },
        "id": "VbIflRj07yuj",
        "outputId": "8574dd0c-fe39-4716-9732-ff1974952e42"
      },
      "execution_count": 38,
      "outputs": [
        {
          "output_type": "stream",
          "name": "stdout",
          "text": [
            "Requirement already satisfied: japanize-matplotlib in /usr/local/lib/python3.10/dist-packages (1.1.3)\n",
            "Requirement already satisfied: matplotlib in /usr/local/lib/python3.10/dist-packages (from japanize-matplotlib) (3.8.0)\n",
            "Requirement already satisfied: contourpy>=1.0.1 in /usr/local/lib/python3.10/dist-packages (from matplotlib->japanize-matplotlib) (1.3.0)\n",
            "Requirement already satisfied: cycler>=0.10 in /usr/local/lib/python3.10/dist-packages (from matplotlib->japanize-matplotlib) (0.12.1)\n",
            "Requirement already satisfied: fonttools>=4.22.0 in /usr/local/lib/python3.10/dist-packages (from matplotlib->japanize-matplotlib) (4.54.1)\n",
            "Requirement already satisfied: kiwisolver>=1.0.1 in /usr/local/lib/python3.10/dist-packages (from matplotlib->japanize-matplotlib) (1.4.7)\n",
            "Requirement already satisfied: numpy<2,>=1.21 in /usr/local/lib/python3.10/dist-packages (from matplotlib->japanize-matplotlib) (1.26.4)\n",
            "Requirement already satisfied: packaging>=20.0 in /usr/local/lib/python3.10/dist-packages (from matplotlib->japanize-matplotlib) (24.1)\n",
            "Requirement already satisfied: pillow>=6.2.0 in /usr/local/lib/python3.10/dist-packages (from matplotlib->japanize-matplotlib) (10.4.0)\n",
            "Requirement already satisfied: pyparsing>=2.3.1 in /usr/local/lib/python3.10/dist-packages (from matplotlib->japanize-matplotlib) (3.2.0)\n",
            "Requirement already satisfied: python-dateutil>=2.7 in /usr/local/lib/python3.10/dist-packages (from matplotlib->japanize-matplotlib) (2.8.2)\n",
            "Requirement already satisfied: six>=1.5 in /usr/local/lib/python3.10/dist-packages (from python-dateutil>=2.7->matplotlib->japanize-matplotlib) (1.16.0)\n"
          ]
        },
        {
          "output_type": "display_data",
          "data": {
            "text/plain": [
              "<Figure size 640x480 with 1 Axes>"
            ],
            "image/png": "[encoded data removed]"
          },
          "metadata": {}
        }
      ]
    },
    {
      "cell_type": "code",
      "source": [
        "# import matplotlib.pyplot as plt #描画用モジュールの読み込み\n",
        "# plt.hist(word_lengths, bins=20) #区間は20個\n",
        "# plt.show() #画面表示\n",
        "\n",
        "\n",
        "import matplotlib.pyplot as plt  # 描画用モジュールの読み込み\n",
        "\n",
        "# 日本語フォントを設定\n",
        "plt.rcParams['font.family'] = 'IPAPGothic'  # IPAフォント（例）\n",
        "# matplotlib.rcParams['font.family'] = 'Yu Gothic'  # Windowsの場合の例\n",
        "\n",
        "# 文字化けを防ぐために、以下の設定も追加\n",
        "plt.rcParams['axes.unicode_minus'] = False  # マイナス記号の表示\n",
        "\n",
        "# ヒストグラムを描画\n",
        "plt.hist(word_lengths, bins=20, color='skyblue', edgecolor='black', alpha=0.7)  # 色、エッジの色、透明度を指定\n",
        "\n",
        "# タイトルとラベルを設定\n",
        "plt.title('単語長のヒストグラムの作成', fontsize=16)  # タイトル\n",
        "plt.xlabel('Word Length', fontsize=14)  # x軸ラベル\n",
        "plt.ylabel('Frequency', fontsize=14)  # y軸ラベル\n",
        "\n",
        "# グリッド線を追加\n",
        "plt.grid(axis='y', alpha=0.75)  # y軸のグリッド線\n",
        "\n",
        "# ヒストグラムを表示\n",
        "plt.show()  # 画面表示\n"
      ],
      "metadata": {
        "colab": {
          "base_uri": "https://localhost:8080/",
          "height": 1000
        },
        "id": "1BCpvSavohVY",
        "outputId": "ca230a57-b52a-45bf-fc6e-f0c26227255a"
      },
      "execution_count": 33,
      "outputs": [
        {
          "output_type": "stream",
          "name": "stderr",
          "text": [
            "WARNING:matplotlib.font_manager:findfont: Font family 'IPAPGothic' not found.\n",
            "WARNING:matplotlib.font_manager:findfont: Font family 'IPAPGothic' not found.\n",
            "WARNING:matplotlib.font_manager:findfont: Font family 'IPAPGothic' not found.\n",
            "WARNING:matplotlib.font_manager:findfont: Font family 'IPAPGothic' not found.\n",
            "WARNING:matplotlib.font_manager:findfont: Font family 'IPAPGothic' not found.\n",
            "WARNING:matplotlib.font_manager:findfont: Font family 'IPAPGothic' not found.\n",
            "WARNING:matplotlib.font_manager:findfont: Font family 'IPAPGothic' not found.\n",
            "WARNING:matplotlib.font_manager:findfont: Font family 'IPAPGothic' not found.\n",
            "WARNING:matplotlib.font_manager:findfont: Font family 'IPAPGothic' not found.\n",
            "WARNING:matplotlib.font_manager:findfont: Font family 'IPAPGothic' not found.\n",
            "WARNING:matplotlib.font_manager:findfont: Font family 'IPAPGothic' not found.\n",
            "WARNING:matplotlib.font_manager:findfont: Font family 'IPAPGothic' not found.\n",
            "WARNING:matplotlib.font_manager:findfont: Font family 'IPAPGothic' not found.\n",
            "WARNING:matplotlib.font_manager:findfont: Font family 'IPAPGothic' not found.\n",
            "WARNING:matplotlib.font_manager:findfont: Font family 'IPAPGothic' not found.\n",
            "WARNING:matplotlib.font_manager:findfont: Font family 'IPAPGothic' not found.\n",
            "WARNING:matplotlib.font_manager:findfont: Font family 'IPAPGothic' not found.\n",
            "WARNING:matplotlib.font_manager:findfont: Font family 'IPAPGothic' not found.\n",
            "WARNING:matplotlib.font_manager:findfont: Font family 'IPAPGothic' not found.\n",
            "WARNING:matplotlib.font_manager:findfont: Font family 'IPAPGothic' not found.\n",
            "WARNING:matplotlib.font_manager:findfont: Font family 'IPAPGothic' not found.\n",
            "WARNING:matplotlib.font_manager:findfont: Font family 'IPAPGothic' not found.\n",
            "WARNING:matplotlib.font_manager:findfont: Font family 'IPAPGothic' not found.\n",
            "WARNING:matplotlib.font_manager:findfont: Font family 'IPAPGothic' not found.\n",
            "WARNING:matplotlib.font_manager:findfont: Font family 'IPAPGothic' not found.\n",
            "WARNING:matplotlib.font_manager:findfont: Font family 'IPAPGothic' not found.\n",
            "WARNING:matplotlib.font_manager:findfont: Font family 'IPAPGothic' not found.\n",
            "WARNING:matplotlib.font_manager:findfont: Font family 'IPAPGothic' not found.\n",
            "WARNING:matplotlib.font_manager:findfont: Font family 'IPAPGothic' not found.\n",
            "WARNING:matplotlib.font_manager:findfont: Font family 'IPAPGothic' not found.\n",
            "WARNING:matplotlib.font_manager:findfont: Font family 'IPAPGothic' not found.\n",
            "WARNING:matplotlib.font_manager:findfont: Font family 'IPAPGothic' not found.\n",
            "WARNING:matplotlib.font_manager:findfont: Font family 'IPAPGothic' not found.\n",
            "WARNING:matplotlib.font_manager:findfont: Font family 'IPAPGothic' not found.\n",
            "WARNING:matplotlib.font_manager:findfont: Font family 'IPAPGothic' not found.\n",
            "WARNING:matplotlib.font_manager:findfont: Font family 'IPAPGothic' not found.\n",
            "WARNING:matplotlib.font_manager:findfont: Font family 'IPAPGothic' not found.\n",
            "WARNING:matplotlib.font_manager:findfont: Font family 'IPAPGothic' not found.\n",
            "WARNING:matplotlib.font_manager:findfont: Font family 'IPAPGothic' not found.\n",
            "WARNING:matplotlib.font_manager:findfont: Font family 'IPAPGothic' not found.\n",
            "WARNING:matplotlib.font_manager:findfont: Font family 'IPAPGothic' not found.\n",
            "WARNING:matplotlib.font_manager:findfont: Font family 'IPAPGothic' not found.\n",
            "WARNING:matplotlib.font_manager:findfont: Font family 'IPAPGothic' not found.\n",
            "WARNING:matplotlib.font_manager:findfont: Font family 'IPAPGothic' not found.\n",
            "WARNING:matplotlib.font_manager:findfont: Font family 'IPAPGothic' not found.\n",
            "WARNING:matplotlib.font_manager:findfont: Font family 'IPAPGothic' not found.\n",
            "WARNING:matplotlib.font_manager:findfont: Font family 'IPAPGothic' not found.\n",
            "WARNING:matplotlib.font_manager:findfont: Font family 'IPAPGothic' not found.\n",
            "WARNING:matplotlib.font_manager:findfont: Font family 'IPAPGothic' not found.\n",
            "WARNING:matplotlib.font_manager:findfont: Font family 'IPAPGothic' not found.\n",
            "WARNING:matplotlib.font_manager:findfont: Font family 'IPAPGothic' not found.\n",
            "WARNING:matplotlib.font_manager:findfont: Font family 'IPAPGothic' not found.\n",
            "WARNING:matplotlib.font_manager:findfont: Font family 'IPAPGothic' not found.\n",
            "WARNING:matplotlib.font_manager:findfont: Font family 'IPAPGothic' not found.\n",
            "WARNING:matplotlib.font_manager:findfont: Font family 'IPAPGothic' not found.\n",
            "WARNING:matplotlib.font_manager:findfont: Font family 'IPAPGothic' not found.\n",
            "WARNING:matplotlib.font_manager:findfont: Font family 'IPAPGothic' not found.\n",
            "WARNING:matplotlib.font_manager:findfont: Font family 'IPAPGothic' not found.\n",
            "WARNING:matplotlib.font_manager:findfont: Font family 'IPAPGothic' not found.\n",
            "WARNING:matplotlib.font_manager:findfont: Font family 'IPAPGothic' not found.\n",
            "WARNING:matplotlib.font_manager:findfont: Font family 'IPAPGothic' not found.\n",
            "WARNING:matplotlib.font_manager:findfont: Font family 'IPAPGothic' not found.\n",
            "WARNING:matplotlib.font_manager:findfont: Font family 'IPAPGothic' not found.\n",
            "WARNING:matplotlib.font_manager:findfont: Font family 'IPAPGothic' not found.\n",
            "WARNING:matplotlib.font_manager:findfont: Font family 'IPAPGothic' not found.\n",
            "WARNING:matplotlib.font_manager:findfont: Font family 'IPAPGothic' not found.\n",
            "WARNING:matplotlib.font_manager:findfont: Font family 'IPAPGothic' not found.\n",
            "WARNING:matplotlib.font_manager:findfont: Font family 'IPAPGothic' not found.\n",
            "WARNING:matplotlib.font_manager:findfont: Font family 'IPAPGothic' not found.\n"
          ]
        },
        {
          "output_type": "display_data",
          "data": {
            "text/plain": [
              "<Figure size 640x480 with 1 Axes>"
            ],
            "image/png": "[encoded data removed]"
          },
          "metadata": {}
        }
      ]
    },
    {
      "cell_type": "code",
      "source": [
        "# import matplotlib.pyplot as plt #描画用モジュールの読み込み\n",
        "# plt.hist(word_lengths, bins=20) #区間は20個\n",
        "# plt.show() #画面表示\n",
        "\n",
        "!pip install japanize-matplotlib\n",
        "\n",
        "import matplotlib.pyplot as plt  # 描画用モジュールの読み込み\n",
        "import japanize_matplotlib\n",
        "\n",
        "# ヒストグラムを描画\n",
        "plt.hist(word_lengths, bins=20, color='skyblue', edgecolor='black', alpha=0.7)  # 色、エッジの色、透明度を指定\n",
        "\n",
        "# タイトルとラベルを設定\n",
        "plt.title('単語長のヒストグラムの作成', fontsize=16)  # タイトル\n",
        "plt.xlabel('Word Length', fontsize=14)  # x軸ラベル\n",
        "plt.ylabel('Frequency', fontsize=14)  # y軸ラベル\n",
        "\n",
        "# グリッド線を追加\n",
        "plt.grid(axis='y', alpha=0.75)  # y軸のグリッド線\n",
        "\n",
        "# ヒストグラムを表示\n",
        "plt.show()  # 画面表示\n"
      ],
      "metadata": {
        "colab": {
          "base_uri": "https://localhost:8080/",
          "height": 714
        },
        "id": "XSnoayuE7Zf4",
        "outputId": "24cadb10-d3ab-4769-a7d2-9cb93fccd0eb"
      },
      "execution_count": 37,
      "outputs": [
        {
          "output_type": "stream",
          "name": "stdout",
          "text": [
            "Requirement already satisfied: japanize-matplotlib in /usr/local/lib/python3.10/dist-packages (1.1.3)\n",
            "Requirement already satisfied: matplotlib in /usr/local/lib/python3.10/dist-packages (from japanize-matplotlib) (3.8.0)\n",
            "Requirement already satisfied: contourpy>=1.0.1 in /usr/local/lib/python3.10/dist-packages (from matplotlib->japanize-matplotlib) (1.3.0)\n",
            "Requirement already satisfied: cycler>=0.10 in /usr/local/lib/python3.10/dist-packages (from matplotlib->japanize-matplotlib) (0.12.1)\n",
            "Requirement already satisfied: fonttools>=4.22.0 in /usr/local/lib/python3.10/dist-packages (from matplotlib->japanize-matplotlib) (4.54.1)\n",
            "Requirement already satisfied: kiwisolver>=1.0.1 in /usr/local/lib/python3.10/dist-packages (from matplotlib->japanize-matplotlib) (1.4.7)\n",
            "Requirement already satisfied: numpy<2,>=1.21 in /usr/local/lib/python3.10/dist-packages (from matplotlib->japanize-matplotlib) (1.26.4)\n",
            "Requirement already satisfied: packaging>=20.0 in /usr/local/lib/python3.10/dist-packages (from matplotlib->japanize-matplotlib) (24.1)\n",
            "Requirement already satisfied: pillow>=6.2.0 in /usr/local/lib/python3.10/dist-packages (from matplotlib->japanize-matplotlib) (10.4.0)\n",
            "Requirement already satisfied: pyparsing>=2.3.1 in /usr/local/lib/python3.10/dist-packages (from matplotlib->japanize-matplotlib) (3.2.0)\n",
            "Requirement already satisfied: python-dateutil>=2.7 in /usr/local/lib/python3.10/dist-packages (from matplotlib->japanize-matplotlib) (2.8.2)\n",
            "Requirement already satisfied: six>=1.5 in /usr/local/lib/python3.10/dist-packages (from python-dateutil>=2.7->matplotlib->japanize-matplotlib) (1.16.0)\n"
          ]
        },
        {
          "output_type": "display_data",
          "data": {
            "text/plain": [
              "<Figure size 640x480 with 1 Axes>"
            ],
            "image/png": "[encoded data removed]"
          },
          "metadata": {}
        }
      ]
    },
    {
      "cell_type": "code",
      "source": [],
      "metadata": {
        "id": "hXJGRMlu5DmU"
      },
      "execution_count": null,
      "outputs": []
    },
    {
      "cell_type": "code",
      "source": [],
      "metadata": {
        "id": "du6Wy5m35Doi"
      },
      "execution_count": null,
      "outputs": []
    },
    {
      "cell_type": "code",
      "source": [],
      "metadata": {
        "id": "IIZJKwr05Dr2"
      },
      "execution_count": null,
      "outputs": []
    },
    {
      "cell_type": "code",
      "source": [],
      "metadata": {
        "id": "nIMNnN1KohWu"
      },
      "execution_count": null,
      "outputs": []
    },
    {
      "cell_type": "code",
      "source": [],
      "metadata": {
        "id": "w17x5IIooY5G"
      },
      "execution_count": null,
      "outputs": []
    },
    {
      "cell_type": "code",
      "source": [],
      "metadata": {
        "id": "-ZR9uvWzlweX"
      },
      "execution_count": null,
      "outputs": []
    }
  ]
}