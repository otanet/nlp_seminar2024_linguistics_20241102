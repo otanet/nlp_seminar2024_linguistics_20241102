{
  "nbformat": 4,
  "nbformat_minor": 0,
  "metadata": {
    "colab": {
      "provenance": [],
      "include_colab_link": true
    },
    "kernelspec": {
      "name": "python3",
      "display_name": "Python 3"
    },
    "language_info": {
      "name": "python"
    }
  },
  "cells": [
    {
      "cell_type": "markdown",
      "metadata": {
        "id": "view-in-github",
        "colab_type": "text"
      },
      "source": [
        "<a href=\"https://colab.research.google.com/github/otanet/nlp_seminar2024_linguistics_20241102/blob/main/1_read_data_0.ipynb\" target=\"_parent\"><img src=\"https://colab.research.google.com/assets/colab-badge.svg\" alt=\"Open In Colab\"/></a>"
      ]
    },
    {
      "cell_type": "markdown",
      "source": [
        "準備：モジュールの導入（Googleドライブを使用するモジュール）"
      ],
      "metadata": {
        "id": "bLU7mSoM7POS"
      }
    },
    {
      "cell_type": "code",
      "execution_count": 1,
      "metadata": {
        "id": "M_bCH_ibolKs"
      },
      "outputs": [],
      "source": [
        "# #以降はコメントとして無視される（実行されない）\n",
        "import google.colab.drive   # モジュールの読み込み"
      ]
    },
    {
      "cell_type": "markdown",
      "source": [
        "準備：ドライブ使用準備（ドライブのマウント）"
      ],
      "metadata": {
        "id": "CTPb06y47sAd"
      }
    },
    {
      "cell_type": "code",
      "execution_count": 6,
      "metadata": {
        "id": "N3MUT4YWidCV",
        "colab": {
          "base_uri": "https://localhost:8080/"
        },
        "outputId": "a77e20f7-897e-4bbf-af47-8f8fe98c1d35"
      },
      "outputs": [
        {
          "output_type": "stream",
          "name": "stdout",
          "text": [
            "Mounted at /content/drive/\n"
          ]
        }
      ],
      "source": [
        "google.colab.drive.mount('/content/drive/')"
      ]
    },
    {
      "cell_type": "markdown",
      "source": [
        "メイン処理：ファイルの読み込みと内容の出力"
      ],
      "metadata": {
        "id": "EZ8P_z3e8n8i"
      }
    },
    {
      "cell_type": "code",
      "execution_count": 12,
      "metadata": {
        "id": "BecWIGUlCVh5",
        "colab": {
          "base_uri": "https://localhost:8080/"
        },
        "outputId": "2e4bda3e-d24a-4a9f-d5e0-c2e1e636c17c"
      },
      "outputs": [
        {
          "output_type": "stream",
          "name": "stdout",
          "text": [
            "He drew some money from the bank.\n",
            "John got a bank transfer form to make a bank transfer.\n",
            "My father had worked as a bank clerk for a long time.\n",
            "Someone raided a bank.\n",
            "It functions as a data bank.\n",
            "They walked along the river bank.\n",
            "The city stands on the right bank of the Saine.\n",
            "There is a sand bank between the two towns.\n",
            "They sat down against the bank by the wayside.\n",
            "The heavy rain broke the bank.\n"
          ]
        }
      ],
      "source": [
        "with open('/content/drive/MyDrive/言語処理技術セミナー2024_NLP_摂南大_20241102/nlpseminar2024/simple_corpus.txt') as f:\n",
        "  for data_line in f:\n",
        "    print(data_line.rstrip('\\n'))"
      ]
    },
    {
      "cell_type": "code",
      "source": [
        "with open('/content/drive/MyDrive/言語処理技術セミナー2024_NLP_摂南大_20241102/nlpseminar2024/simple_corpus.txt') as f:\n",
        "  for data_line in f:\n",
        "    print(data_line.replace('\\n',''))"
      ],
      "metadata": {
        "colab": {
          "base_uri": "https://localhost:8080/"
        },
        "id": "bTYbkBLdjuu-",
        "outputId": "c8027f0a-129a-40f9-dec0-232f6b880fff"
      },
      "execution_count": 14,
      "outputs": [
        {
          "output_type": "stream",
          "name": "stdout",
          "text": [
            "He drew some money from the bank.\n",
            "John got a bank transfer form to make a bank transfer.\n",
            "My father had worked as a bank clerk for a long time.\n",
            "Someone raided a bank.\n",
            "It functions as a data bank.\n",
            "They walked along the river bank.\n",
            "The city stands on the right bank of the Saine.\n",
            "There is a sand bank between the two towns.\n",
            "They sat down against the bank by the wayside.\n",
            "The heavy rain broke the bank.\n"
          ]
        }
      ]
    },
    {
      "cell_type": "code",
      "source": [
        "with open('/content/drive/MyDrive/言語処理技術セミナー2024_NLP_摂南大_20241102/nlpseminar2024/simple_corpus.txt') as f:\n",
        "  for data_line in f.read().splitlines():\n",
        "    print(data_line)"
      ],
      "metadata": {
        "colab": {
          "base_uri": "https://localhost:8080/"
        },
        "id": "dEVc-BAIkCuU",
        "outputId": "bac70038-5610-4f01-eb04-6196be8fdf04"
      },
      "execution_count": 19,
      "outputs": [
        {
          "output_type": "stream",
          "name": "stdout",
          "text": [
            "He drew some money from the bank.\n",
            "John got a bank transfer form to make a bank transfer.\n",
            "My father had worked as a bank clerk for a long time.\n",
            "Someone raided a bank.\n",
            "It functions as a data bank.\n",
            "They walked along the river bank.\n",
            "The city stands on the right bank of the Saine.\n",
            "There is a sand bank between the two towns.\n",
            "They sat down against the bank by the wayside.\n",
            "The heavy rain broke the bank.\n"
          ]
        }
      ]
    }
  ]
}