{
  "cells": [
    {
      "cell_type": "markdown",
      "metadata": {
        "id": "view-in-github",
        "colab_type": "text"
      },
      "source": [
        "<a href=\"https://colab.research.google.com/github/otanet/nlp_seminar2024_linguistics_20241102/blob/main/4_word2vec.ipynb\" target=\"_parent\"><img src=\"https://colab.research.google.com/assets/colab-badge.svg\" alt=\"Open In Colab\"/></a>"
      ]
    },
    {
      "cell_type": "markdown",
      "metadata": {
        "id": "IRHRRxuBcKuP"
      },
      "source": [
        "# **言語処理学会主催（30周年記念特別編）**\n",
        "# **言語処理技術セミナー2024**\n",
        "# **「言語分析のための言語処理・深層学習」**\n",
        "# **応用1：word2vecベースの言語分析**\n",
        "## 2024年8月30日（金）\n",
        "## 甲南大学ネットワークキャンパス東京\n",
        "## 担当：川崎義史（東京大学）"
      ]
    },
    {
      "cell_type": "markdown",
      "metadata": {
        "id": "gxIXKLfSJvx6"
      },
      "source": [
        "# word2vecの使い方\n",
        "- gensimライブラリを使ってword2vecを使ってみよう。"
      ]
    },
    {
      "cell_type": "markdown",
      "metadata": {
        "id": "OT12PNe_Eaib"
      },
      "source": [
        "## データ読み込み\n",
        "- 50次元のgloveモデルを使ってみよう。\n"
      ]
    },
    {
      "cell_type": "code",
      "execution_count": 1,
      "metadata": {
        "id": "Z2WbkUgJNqBl",
        "colab": {
          "base_uri": "https://localhost:8080/"
        },
        "outputId": "a525a1e2-255d-4839-b72b-bb6295cc0a25"
      },
      "outputs": [
        {
          "output_type": "stream",
          "name": "stdout",
          "text": [
            "Requirement already satisfied: gensim in /usr/local/lib/python3.10/dist-packages (4.3.3)\n",
            "Requirement already satisfied: numpy<2.0,>=1.18.5 in /usr/local/lib/python3.10/dist-packages (from gensim) (1.26.4)\n",
            "Requirement already satisfied: scipy<1.14.0,>=1.7.0 in /usr/local/lib/python3.10/dist-packages (from gensim) (1.13.1)\n",
            "Requirement already satisfied: smart-open>=1.8.1 in /usr/local/lib/python3.10/dist-packages (from gensim) (7.0.5)\n",
            "Requirement already satisfied: wrapt in /usr/local/lib/python3.10/dist-packages (from smart-open>=1.8.1->gensim) (1.16.0)\n"
          ]
        }
      ],
      "source": [
        "# gensimをインストール（初回のみ）\n",
        "!pip install gensim\n",
        "\n",
        "# gensimをインポート\n",
        "import gensim\n",
        "\n",
        "# numpyをnpとしてインポート\n",
        "import numpy as np"
      ]
    },
    {
      "cell_type": "code",
      "execution_count": 2,
      "metadata": {
        "colab": {
          "base_uri": "https://localhost:8080/"
        },
        "id": "GexJB-Ed5_WG",
        "outputId": "d9aefe34-22d3-4041-f71a-d3b46242b555"
      },
      "outputs": [
        {
          "output_type": "stream",
          "name": "stdout",
          "text": [
            "[==================================================] 100.0% 66.0/66.0MB downloaded\n"
          ]
        }
      ],
      "source": [
        "# gensim.downloaderをインポート\n",
        "import gensim.downloader\n",
        "\n",
        "# 50次元のgloveモデルを読み込み（1分程度かかります）\n",
        "model = gensim.downloader.load('glove-wiki-gigaword-50')"
      ]
    },
    {
      "cell_type": "code",
      "execution_count": 3,
      "metadata": {
        "colab": {
          "base_uri": "https://localhost:8080/"
        },
        "id": "WXdZ82bwyL7X",
        "outputId": "ebd65770-2dfb-4f89-ad91-5ecbc1af2ce3"
      },
      "outputs": [
        {
          "output_type": "execute_result",
          "data": {
            "text/plain": [
              "array([[ 0.418   ,  0.24968 , -0.41242 , ..., -0.18411 , -0.11514 ,\n",
              "        -0.78581 ],\n",
              "       [ 0.013441,  0.23682 , -0.16899 , ..., -0.56657 ,  0.044691,\n",
              "         0.30392 ],\n",
              "       [ 0.15164 ,  0.30177 , -0.16763 , ..., -0.35652 ,  0.016413,\n",
              "         0.10216 ],\n",
              "       ...,\n",
              "       [-0.51181 ,  0.058706,  1.0913  , ..., -0.25003 , -1.125   ,\n",
              "         1.5863  ],\n",
              "       [-0.75898 , -0.47426 ,  0.4737  , ...,  0.78954 , -0.014116,\n",
              "         0.6448  ],\n",
              "       [ 0.072617, -0.51393 ,  0.4728  , ..., -0.18907 , -0.59021 ,\n",
              "         0.55559 ]], dtype=float32)"
            ]
          },
          "metadata": {},
          "execution_count": 3
        }
      ],
      "source": [
        "# 全ベクトル確認\n",
        "model.vectors"
      ]
    },
    {
      "cell_type": "code",
      "execution_count": 4,
      "metadata": {
        "colab": {
          "base_uri": "https://localhost:8080/"
        },
        "id": "eE4CM7VWs_dh",
        "outputId": "cde51435-a21f-4de6-a48f-ae16bbb6af73"
      },
      "outputs": [
        {
          "output_type": "execute_result",
          "data": {
            "text/plain": [
              "(400000, 50)"
            ]
          },
          "metadata": {},
          "execution_count": 4
        }
      ],
      "source": [
        "# サイズ確認\n",
        "# 50次元の単語ベクトルが40万語分格納されている\n",
        "model.vectors.shape"
      ]
    },
    {
      "cell_type": "code",
      "execution_count": 5,
      "metadata": {
        "colab": {
          "base_uri": "https://localhost:8080/"
        },
        "id": "UuMIO_dU3IDH",
        "outputId": "b5cff8ee-8f68-40e5-be18-c4e1cb677a94"
      },
      "outputs": [
        {
          "output_type": "execute_result",
          "data": {
            "text/plain": [
              "['the',\n",
              " ',',\n",
              " '.',\n",
              " 'of',\n",
              " 'to',\n",
              " 'and',\n",
              " 'in',\n",
              " 'a',\n",
              " '\"',\n",
              " \"'s\",\n",
              " 'for',\n",
              " '-',\n",
              " 'that',\n",
              " 'on',\n",
              " 'is',\n",
              " 'was',\n",
              " 'said',\n",
              " 'with',\n",
              " 'he',\n",
              " 'as',\n",
              " 'it',\n",
              " 'by',\n",
              " 'at',\n",
              " '(',\n",
              " ')',\n",
              " 'from',\n",
              " 'his',\n",
              " \"''\",\n",
              " '``',\n",
              " 'an']"
            ]
          },
          "metadata": {},
          "execution_count": 5
        }
      ],
      "source": [
        "# 単語リストの最初の30個\n",
        "model.index_to_key[:30]"
      ]
    },
    {
      "cell_type": "code",
      "execution_count": 6,
      "metadata": {
        "colab": {
          "base_uri": "https://localhost:8080/"
        },
        "id": "9L928QvlVyCN",
        "outputId": "3b277486-4a3b-4e5a-ea7a-3e62dd230195"
      },
      "outputs": [
        {
          "output_type": "execute_result",
          "data": {
            "text/plain": [
              "array([ 0.52042 , -0.8314  ,  0.49961 ,  1.2893  ,  0.1151  ,  0.057521,\n",
              "       -1.3753  , -0.97313 ,  0.18346 ,  0.47672 , -0.15112 ,  0.35532 ,\n",
              "        0.25912 , -0.77857 ,  0.52181 ,  0.47695 , -1.4251  ,  0.858   ,\n",
              "        0.59821 , -1.0903  ,  0.33574 , -0.60891 ,  0.41742 ,  0.21569 ,\n",
              "       -0.07417 , -0.5822  , -0.4502  ,  0.17253 ,  0.16448 , -0.38413 ,\n",
              "        2.3283  , -0.66682 , -0.58181 ,  0.74389 ,  0.095015, -0.47865 ,\n",
              "       -0.84591 ,  0.38704 ,  0.23693 , -1.5523  ,  0.64802 , -0.16521 ,\n",
              "       -1.4719  , -0.16224 ,  0.79857 ,  0.97391 ,  0.40027 , -0.21912 ,\n",
              "       -0.30938 ,  0.26581 ], dtype=float32)"
            ]
          },
          "metadata": {},
          "execution_count": 6
        }
      ],
      "source": [
        "# appleの単語ベクトル\n",
        "x = model['apple']\n",
        "x"
      ]
    },
    {
      "cell_type": "code",
      "source": [
        "# appleの単語ベクトル\n",
        "x = model['apple']\n",
        "y = model['orange']\n",
        "\n",
        "print(x,y)"
      ],
      "metadata": {
        "colab": {
          "base_uri": "https://localhost:8080/"
        },
        "id": "CylYZDZvaXOA",
        "outputId": "19209311-410e-4a13-bc3f-7d64181d7cd7"
      },
      "execution_count": 11,
      "outputs": [
        {
          "output_type": "stream",
          "name": "stdout",
          "text": [
            "[ 0.52042  -0.8314    0.49961   1.2893    0.1151    0.057521 -1.3753\n",
            " -0.97313   0.18346   0.47672  -0.15112   0.35532   0.25912  -0.77857\n",
            "  0.52181   0.47695  -1.4251    0.858     0.59821  -1.0903    0.33574\n",
            " -0.60891   0.41742   0.21569  -0.07417  -0.5822   -0.4502    0.17253\n",
            "  0.16448  -0.38413   2.3283   -0.66682  -0.58181   0.74389   0.095015\n",
            " -0.47865  -0.84591   0.38704   0.23693  -1.5523    0.64802  -0.16521\n",
            " -1.4719   -0.16224   0.79857   0.97391   0.40027  -0.21912  -0.30938\n",
            "  0.26581 ] [-0.42783   0.43089  -0.50351   0.5776    0.097786  0.2608   -0.68767\n",
            " -0.31936  -0.25337  -0.37255  -0.045907 -0.53688   0.97511  -0.44595\n",
            " -0.50414  -0.086751 -1.0645    0.36625  -0.52428  -1.3413   -0.2391\n",
            " -0.58808   0.56378  -0.062501 -1.7429   -0.88077  -0.27933   1.4705\n",
            "  0.50436  -0.69174   2.0018    0.26663  -0.85679  -0.18893  -0.021125\n",
            " -0.055118 -0.50337  -0.67157   0.55502  -0.8009    0.10695   0.1459\n",
            " -0.55588  -0.64971   0.22046   0.67415  -0.45119  -1.1462    0.16348\n",
            " -0.62946 ]\n"
          ]
        }
      ]
    },
    {
      "cell_type": "code",
      "execution_count": 12,
      "metadata": {
        "colab": {
          "base_uri": "https://localhost:8080/"
        },
        "id": "nIGxgLRmZu_t",
        "outputId": "7d09400e-1b48-4e66-d7d8-d56b8680044f"
      },
      "outputs": [
        {
          "output_type": "execute_result",
          "data": {
            "text/plain": [
              "(50,)"
            ]
          },
          "metadata": {},
          "execution_count": 12
        }
      ],
      "source": [
        "# 単語ベクトルの次元\n",
        "x.shape"
      ]
    },
    {
      "cell_type": "code",
      "execution_count": 13,
      "metadata": {
        "colab": {
          "base_uri": "https://localhost:8080/"
        },
        "id": "FCsOIIvshkZi",
        "outputId": "33e6b9e6-5bd4-4c83-f7fe-e4f262971b16"
      },
      "outputs": [
        {
          "output_type": "execute_result",
          "data": {
            "text/plain": [
              "5.2923646"
            ]
          },
          "metadata": {},
          "execution_count": 13
        }
      ],
      "source": [
        "# 単語ベクトルの長さ（ノルム）\n",
        "np.linalg.norm(x)"
      ]
    },
    {
      "cell_type": "markdown",
      "metadata": {
        "id": "6jGO4c8hessR"
      },
      "source": [
        "## t-SNEによる次元圧縮\n",
        "- 単語ベクトルを50次元から2次元に圧縮して可視化してみよう。"
      ]
    },
    {
      "cell_type": "code",
      "execution_count": 14,
      "metadata": {
        "colab": {
          "base_uri": "https://localhost:8080/",
          "height": 825
        },
        "id": "ryQBs5RlsXCc",
        "outputId": "813c5228-bb70-4dce-d38e-befe99fc305d"
      },
      "outputs": [
        {
          "output_type": "display_data",
          "data": {
            "text/plain": [
              "<Figure size 1000x1000 with 1 Axes>"
            ],
            "image/png": "[encoded data removed]"
          },
          "metadata": {}
        }
      ],
      "source": [
        "# matplotlib.pyplotをpltとしてインポート\n",
        "import matplotlib.pyplot as plt\n",
        "\n",
        "# TSNEをインポート\n",
        "from sklearn.manifold import TSNE\n",
        "\n",
        "# データが大きいので，最初のn個のデータのみを使用\n",
        "n = 300 # データ数\n",
        "X = model.vectors[:n] # 単語ベクトル\n",
        "labels = model.index_to_key[:n] # 単語ラベル\n",
        "\n",
        "# t-SNEで，50次元のベクトルを2次元に圧縮\n",
        "tsne = TSNE(n_components=2, random_state=0) # random_state=0で乱数シードを固定\n",
        "X_embedded = tsne.fit_transform(X) # 圧縮\n",
        "\n",
        "# プロット\n",
        "plt.figure(figsize=(10, 10)) # 描画準備\n",
        "plt.scatter(X_embedded[:, 0], X_embedded[:, 1], marker='') # マーカーなしで散布図を描画\n",
        "\n",
        "# 単語ラベルを表示\n",
        "for i in range(n):\n",
        "  plt.text(X_embedded[i, 0], X_embedded[i, 1], labels[i])\n",
        "\n",
        "plt.show()"
      ]
    },
    {
      "cell_type": "markdown",
      "metadata": {
        "id": "Zmw7_ZMOEtZ7"
      },
      "source": [
        "## 類似単語検索\n",
        "- コサイン類似度に基づいて類似単語を検索してみよう。\n",
        "- 単語は全て小文字に変換済みです。"
      ]
    },
    {
      "cell_type": "code",
      "execution_count": 16,
      "metadata": {
        "colab": {
          "base_uri": "https://localhost:8080/"
        },
        "id": "wAyFcK3Qx-3w",
        "outputId": "8df031bb-499b-4ff3-b194-00b50adddcb1"
      },
      "outputs": [
        {
          "output_type": "execute_result",
          "data": {
            "text/plain": [
              "[('blackberry', 0.7543067336082458),\n",
              " ('chips', 0.7438644170761108),\n",
              " ('iphone', 0.7429664134979248),\n",
              " ('microsoft', 0.7334205508232117),\n",
              " ('ipad', 0.7331036329269409),\n",
              " ('pc', 0.7217225432395935),\n",
              " ('ipod', 0.7199784517288208),\n",
              " ('intel', 0.7192243337631226),\n",
              " ('ibm', 0.7146540284156799),\n",
              " ('software', 0.7093585133552551)]"
            ]
          },
          "metadata": {},
          "execution_count": 16
        }
      ],
      "source": [
        "# appleの単数形＝IT企業\n",
        "model.most_similar('apple', topn=10) #appleに近い単語を10個出して下さい"
      ]
    },
    {
      "cell_type": "code",
      "source": [
        "# appleの単数形＝IT企業\n",
        "model.most_similar('apple', topn=100) #appleに近い単語を100個出して下さい"
      ],
      "metadata": {
        "colab": {
          "base_uri": "https://localhost:8080/"
        },
        "id": "5S6jtbtReQsK",
        "outputId": "f5956e81-54dd-4d76-c3b7-ce6aea5cbf42"
      },
      "execution_count": 18,
      "outputs": [
        {
          "output_type": "execute_result",
          "data": {
            "text/plain": [
              "[('blackberry', 0.7543067336082458),\n",
              " ('chips', 0.7438644170761108),\n",
              " ('iphone', 0.7429664134979248),\n",
              " ('microsoft', 0.7334205508232117),\n",
              " ('ipad', 0.7331036329269409),\n",
              " ('pc', 0.7217225432395935),\n",
              " ('ipod', 0.7199784517288208),\n",
              " ('intel', 0.7192243337631226),\n",
              " ('ibm', 0.7146540284156799),\n",
              " ('software', 0.7093585133552551),\n",
              " ('macintosh', 0.7047760486602783),\n",
              " ('android', 0.7046630382537842),\n",
              " ('processor', 0.6996651291847229),\n",
              " ('product', 0.6925289630889893),\n",
              " ('dell', 0.6896463632583618),\n",
              " ('cola', 0.6863354444503784),\n",
              " ('desktop', 0.6860975027084351),\n",
              " ('netscape', 0.6852997541427612),\n",
              " ('processors', 0.6781534552574158),\n",
              " ('amd', 0.6766293048858643),\n",
              " ('app', 0.6765777468681335),\n",
              " ('hewlett', 0.6739688515663147),\n",
              " ('cisco', 0.6728059649467468),\n",
              " ('smartphone', 0.6723971962928772),\n",
              " ('sells', 0.6721572279930115),\n",
              " ('pcs', 0.6691615581512451),\n",
              " ('packard', 0.6648722290992737),\n",
              " ('coke', 0.664811372756958),\n",
              " ('yahoo', 0.6622609496116638),\n",
              " ('maker', 0.661612331867218),\n",
              " ('brand', 0.6607150435447693),\n",
              " ('coca', 0.6592515707015991),\n",
              " ('google', 0.65369713306427),\n",
              " ('intuit', 0.6532468199729919),\n",
              " ('juice', 0.6529054641723633),\n",
              " ('motorola', 0.6522291302680969),\n",
              " ('mac', 0.6521205306053162),\n",
              " ('oracle', 0.6514620780944824),\n",
              " ('chip', 0.6495451331138611),\n",
              " ('microsystems', 0.6494028568267822),\n",
              " ('products', 0.6445460319519043),\n",
              " ('selling', 0.642937958240509),\n",
              " ('bean', 0.641998827457428),\n",
              " ('pepsi', 0.6415385603904724),\n",
              " ('makers', 0.6407529711723328),\n",
              " ('corn', 0.6405782699584961),\n",
              " ('computer', 0.6402844190597534),\n",
              " ('hardware', 0.6397479772567749),\n",
              " ('server', 0.639440655708313),\n",
              " ('iigs', 0.638282299041748),\n",
              " ('compaq', 0.6335493922233582),\n",
              " ('lotus', 0.6320209503173828),\n",
              " ('sell', 0.6317869424819946),\n",
              " ('linux', 0.6300650835037231),\n",
              " ('imac', 0.6289276480674744),\n",
              " ('micro', 0.6267711520195007),\n",
              " ('palm', 0.6266241073608398),\n",
              " ('coffee', 0.621469259262085),\n",
              " ('amazon.com', 0.6212790608406067),\n",
              " ('instant', 0.6190851330757141),\n",
              " ('company', 0.6183031797409058),\n",
              " ('aol', 0.6162782907485962),\n",
              " ('inc.', 0.6157416105270386),\n",
              " ('sold', 0.6150261759757996),\n",
              " ('mango', 0.6127084493637085),\n",
              " ('macs', 0.6117578148841858),\n",
              " ('sales', 0.6085352301597595),\n",
              " ('novell', 0.6077637672424316),\n",
              " ('version', 0.6074608564376831),\n",
              " ('browser', 0.6048405766487122),\n",
              " ('sony', 0.6047804355621338),\n",
              " ('itanium', 0.6043773293495178),\n",
              " ('vendor', 0.6043753623962402),\n",
              " ('starbucks', 0.6021459102630615),\n",
              " ('makes', 0.6014619469642639),\n",
              " ('ios', 0.6010737419128418),\n",
              " ('phone', 0.6005440950393677),\n",
              " ('versions', 0.5995501279830933),\n",
              " ('web', 0.5995344519615173),\n",
              " ('mobile', 0.599357545375824),\n",
              " ('buy', 0.5989360809326172),\n",
              " ('sap', 0.5972084999084473),\n",
              " ('nintendo', 0.5964387059211731),\n",
              " ('hybrid', 0.5961720943450928),\n",
              " ('smartphones', 0.5960937142372131),\n",
              " ('kindle', 0.5954919457435608),\n",
              " ('snapple', 0.5945093631744385),\n",
              " ('packaged', 0.5938605070114136),\n",
              " ('candy', 0.5928038358688354),\n",
              " ('available', 0.5920531153678894),\n",
              " ('fruit', 0.5917636752128601),\n",
              " ('macintoshes', 0.5913258194923401),\n",
              " ('itunes', 0.5910343527793884),\n",
              " ('pepsico', 0.5903820991516113),\n",
              " ('microprocessors', 0.5899503231048584),\n",
              " ('pineapple', 0.5899448990821838),\n",
              " ('manufacturer', 0.589264988899231),\n",
              " ('online', 0.588877260684967),\n",
              " ('bought', 0.5887866020202637),\n",
              " ('marketing', 0.5876522064208984)]"
            ]
          },
          "metadata": {},
          "execution_count": 18
        }
      ]
    },
    {
      "cell_type": "code",
      "execution_count": 19,
      "metadata": {
        "colab": {
          "base_uri": "https://localhost:8080/"
        },
        "id": "2YZkUW31l4rJ",
        "outputId": "9ab06afd-5d7d-4464-ddf8-bab8376bb05c"
      },
      "outputs": [
        {
          "output_type": "execute_result",
          "data": {
            "text/plain": [
              "[('peaches', 0.8623535633087158),\n",
              " ('oranges', 0.8594476580619812),\n",
              " ('cherries', 0.8461860418319702),\n",
              " ('mangoes', 0.8264981508255005),\n",
              " ('apricots', 0.8242633938789368),\n",
              " ('strawberries', 0.8229067921638489),\n",
              " ('potatoes', 0.8179376125335693),\n",
              " ('melons', 0.7980057597160339),\n",
              " ('berries', 0.794605016708374),\n",
              " ('vegetables', 0.792052149772644)]"
            ]
          },
          "metadata": {},
          "execution_count": 19
        }
      ],
      "source": [
        "# applesの複数形＝果物\n",
        "model.most_similar('apples', topn=10)"
      ]
    },
    {
      "cell_type": "code",
      "execution_count": 20,
      "metadata": {
        "colab": {
          "base_uri": "https://localhost:8080/"
        },
        "id": "69X_tayNosRu",
        "outputId": "ac014eb8-a9ca-4c20-b302-97dce35aa0a1"
      },
      "outputs": [
        {
          "output_type": "execute_result",
          "data": {
            "text/plain": [
              "[('risotto', 0.7513157725334167),\n",
              " ('lasagna', 0.746839165687561),\n",
              " ('bouillabaisse', 0.7264416813850403),\n",
              " ('polenta', 0.7242710590362549),\n",
              " ('gazpacho', 0.720428466796875),\n",
              " ('pasta', 0.712557315826416),\n",
              " ('souffle', 0.7090212106704712),\n",
              " ('antipasto', 0.7083943486213684),\n",
              " ('tapas', 0.6925298571586609),\n",
              " ('gumbo', 0.6914083957672119)]"
            ]
          },
          "metadata": {},
          "execution_count": 20
        }
      ],
      "source": [
        "# paella\n",
        "model.most_similar('paella', topn=10)"
      ]
    },
    {
      "cell_type": "code",
      "execution_count": 21,
      "metadata": {
        "colab": {
          "base_uri": "https://localhost:8080/"
        },
        "id": "nyWAmChtoA7p",
        "outputId": "3582404d-ae52-4e12-a534-752bec2d7445"
      },
      "outputs": [
        {
          "output_type": "execute_result",
          "data": {
            "text/plain": [
              "[('ozawa', 0.758977472782135),\n",
              " ('ryzhkov', 0.7529011964797974),\n",
              " ('aisawa', 0.7358683347702026),\n",
              " ('matsui', 0.7304610013961792),\n",
              " ('kenji', 0.7260814309120178),\n",
              " ('kazuo', 0.7090587019920349),\n",
              " ('girardi', 0.6944605708122253),\n",
              " ('suzuki', 0.6801451444625854),\n",
              " ('edgardo', 0.6776404976844788),\n",
              " ('hideki', 0.6617801785469055)]"
            ]
          },
          "metadata": {},
          "execution_count": 21
        }
      ],
      "source": [
        "# ichiro\n",
        "model.most_similar('ichiro', topn=10)"
      ]
    },
    {
      "cell_type": "code",
      "execution_count": 22,
      "metadata": {
        "colab": {
          "base_uri": "https://localhost:8080/"
        },
        "id": "IQ4RDpXfqf_B",
        "outputId": "1b0beb56-b799-42ef-e247-55fdb9b086f1"
      },
      "outputs": [
        {
          "output_type": "execute_result",
          "data": {
            "text/plain": [
              "[('gephardt', 0.8401312828063965),\n",
              " ('cheney', 0.8309441208839417),\n",
              " ('rodham', 0.8121967315673828),\n",
              " ('pelosi', 0.8114649653434753),\n",
              " ('obama', 0.809582531452179),\n",
              " ('barack', 0.8082160353660583),\n",
              " ('dole', 0.8043028116226196),\n",
              " ('lieberman', 0.8020787835121155),\n",
              " ('hillary', 0.7988161444664001),\n",
              " ('senator', 0.798692524433136)]"
            ]
          },
          "metadata": {},
          "execution_count": 22
        }
      ],
      "source": [
        "# biden\n",
        "model.most_similar('biden', topn=10)"
      ]
    },
    {
      "cell_type": "code",
      "execution_count": 23,
      "metadata": {
        "colab": {
          "base_uri": "https://localhost:8080/"
        },
        "id": "YKOG0iQ2wtl3",
        "outputId": "afd9194f-00f0-4d74-ba48-f56612f3eead"
      },
      "outputs": [
        {
          "output_type": "execute_result",
          "data": {
            "text/plain": [
              "[('casino', 0.6813156604766846),\n",
              " ('nows', 0.6659913659095764),\n",
              " ('casinos', 0.6434264779090881),\n",
              " ('hilton', 0.6420213580131531),\n",
              " ('mogul', 0.6340301036834717),\n",
              " ('vegas', 0.6171435117721558),\n",
              " ('itt', 0.594638466835022),\n",
              " ('westin', 0.5835393667221069),\n",
              " ('hyatt', 0.5815166234970093),\n",
              " ('diller', 0.5665310025215149)]"
            ]
          },
          "metadata": {},
          "execution_count": 23
        }
      ],
      "source": [
        "# trump\n",
        "model.most_similar('trump', topn=10)"
      ]
    },
    {
      "cell_type": "code",
      "execution_count": 25,
      "metadata": {
        "colab": {
          "base_uri": "https://localhost:8080/"
        },
        "id": "3EO9_mtqN7p1",
        "outputId": "6760a16d-924b-4deb-de74-59e05e21f604"
      },
      "outputs": [
        {
          "output_type": "execute_result",
          "data": {
            "text/plain": [
              "[('another', 0.9505615234375),\n",
              " ('an', 0.9489638805389404),\n",
              " ('one', 0.9007352590560913),\n",
              " ('same', 0.8671455979347229),\n",
              " ('the', 0.8517429232597351),\n",
              " ('comes', 0.8462116122245789),\n",
              " ('is', 0.8455259203910828),\n",
              " ('whose', 0.8421803712844849),\n",
              " ('this', 0.8399912714958191),\n",
              " ('as', 0.8371177911758423)]"
            ]
          },
          "metadata": {},
          "execution_count": 25
        }
      ],
      "source": [
        "# a\n",
        "model.most_similar('a', topn=10)"
      ]
    },
    {
      "cell_type": "code",
      "execution_count": 26,
      "metadata": {
        "colab": {
          "base_uri": "https://localhost:8080/"
        },
        "id": "0E_o-oVI0QC7",
        "outputId": "68fb2183-178e-4a28-bd54-88d40047b699"
      },
      "outputs": [
        {
          "output_type": "execute_result",
          "data": {
            "text/plain": [
              "[('might', 0.9671579599380493),\n",
              " ('would', 0.9603726863861084),\n",
              " ('because', 0.9472366571426392),\n",
              " ('if', 0.943134605884552),\n",
              " ('not', 0.9373372197151184),\n",
              " ('take', 0.9236993789672852),\n",
              " ('should', 0.9233610033988953),\n",
              " ('come', 0.9227427840232849),\n",
              " ('but', 0.9226049184799194),\n",
              " ('even', 0.9175540208816528)]"
            ]
          },
          "metadata": {},
          "execution_count": 26
        }
      ],
      "source": [
        "# could\n",
        "model.most_similar('could', topn=10)"
      ]
    },
    {
      "cell_type": "code",
      "execution_count": 32,
      "metadata": {
        "id": "voh5nAMKsPTf",
        "colab": {
          "base_uri": "https://localhost:8080/"
        },
        "outputId": "0d145dc1-92a3-4a24-a978-d4d7e55ac7e3"
      },
      "outputs": [
        {
          "output_type": "execute_result",
          "data": {
            "text/plain": [
              "[('fermín', 0.7572625279426575),\n",
              " ('todde', 0.7426265478134155),\n",
              " ('delclaux', 0.7372210621833801),\n",
              " ('ulloa', 0.7272579669952393),\n",
              " ('nazzaro', 0.7129896283149719),\n",
              " ('cesareo', 0.7065303325653076),\n",
              " ('diego-based', 0.704249918460846),\n",
              " ('donà', 0.7021749019622803),\n",
              " ('cepeda', 0.7012074589729309),\n",
              " ('arratia', 0.6995812654495239)]"
            ]
          },
          "metadata": {},
          "execution_count": 32
        }
      ],
      "source": [
        "# 気になる単語を調べてみよう！\n",
        "model.most_similar('cosme', topn=10)"
      ]
    },
    {
      "cell_type": "code",
      "execution_count": 35,
      "metadata": {
        "id": "aOJLFm_IxGGw",
        "colab": {
          "base_uri": "https://localhost:8080/"
        },
        "outputId": "3f8fe246-0e6b-4cd9-a04e-00fb83a87f84"
      },
      "outputs": [
        {
          "output_type": "execute_result",
          "data": {
            "text/plain": [
              "[('nasdaq100', 0.8667214512825012),\n",
              " ('k', 0.8048400282859802),\n",
              " ('n', 0.791996419429779),\n",
              " ('=', 0.7815910577774048),\n",
              " ('h', 0.7684859037399292),\n",
              " ('w', 0.7570915222167969),\n",
              " ('l', 0.7456024289131165),\n",
              " ('g', 0.7440575957298279),\n",
              " ('/', 0.7380360960960388),\n",
              " ('[', 0.7367591261863708),\n",
              " ('j', 0.7324488759040833),\n",
              " ('>', 0.7276935577392578),\n",
              " ('f', 0.7264966368675232),\n",
              " (']', 0.7212180495262146),\n",
              " ('~', 0.7184759974479675),\n",
              " ('x', 0.7115695476531982),\n",
              " ('cl', 0.7065823674201965),\n",
              " ('q', 0.7056151628494263),\n",
              " ('h2o', 0.7034589648246765),\n",
              " ('p', 0.7026678323745728),\n",
              " ('z', 0.7022886872291565),\n",
              " ('financl', 0.6981330513954163),\n",
              " ('<', 0.6966388821601868),\n",
              " ('^', 0.6784244179725647),\n",
              " ('(', 0.6655064821243286),\n",
              " ('2', 0.6650572419166565),\n",
              " ('|', 0.6630328893661499),\n",
              " (')', 0.6593281030654907),\n",
              " ('mn2', 0.6536531448364258),\n",
              " ('m', 0.6535087823867798)]"
            ]
          },
          "metadata": {},
          "execution_count": 35
        }
      ],
      "source": [
        "# 気になる単語を調べてみよう！\n",
        "model.most_similar('+', topn=30)"
      ]
    },
    {
      "cell_type": "markdown",
      "metadata": {
        "id": "7gHsMwKMEmsx"
      },
      "source": [
        "## 類推\n",
        "- 単語ベクトルの足し算・引き算で意味の計算をしてみよう。"
      ]
    },
    {
      "cell_type": "code",
      "execution_count": 36,
      "metadata": {
        "colab": {
          "base_uri": "https://localhost:8080/"
        },
        "id": "E7j-tirr_4E0",
        "outputId": "5d6ea4be-84e7-4fc4-b531-3b782888304b"
      },
      "outputs": [
        {
          "output_type": "execute_result",
          "data": {
            "text/plain": [
              "[('king', 0.8859834671020508),\n",
              " ('queen', 0.8609582185745239),\n",
              " ('daughter', 0.7684512734413147),\n",
              " ('prince', 0.7640699744224548),\n",
              " ('throne', 0.7634970545768738),\n",
              " ('princess', 0.7512729167938232),\n",
              " ('elizabeth', 0.7506489157676697),\n",
              " ('father', 0.7314497232437134),\n",
              " ('kingdom', 0.7296158671379089),\n",
              " ('mother', 0.728001058101654)]"
            ]
          },
          "metadata": {},
          "execution_count": 36
        }
      ],
      "source": [
        "# king – man + women = ?\n",
        "x = model['king'] - model['man'] + model['woman'] # ベクトルの長さを正規化せずに計算\n",
        "model.most_similar(x, topn=10)"
      ]
    },
    {
      "cell_type": "code",
      "execution_count": 37,
      "metadata": {
        "colab": {
          "base_uri": "https://localhost:8080/"
        },
        "id": "gXmAe6YdfbK2",
        "outputId": "dacf5d76-7519-45c6-8f04-241b405352d9"
      },
      "outputs": [
        {
          "output_type": "execute_result",
          "data": {
            "text/plain": [
              "[('queen', 0.8523604273796082),\n",
              " ('throne', 0.7664334177970886),\n",
              " ('prince', 0.7592144012451172),\n",
              " ('daughter', 0.7473883628845215),\n",
              " ('elizabeth', 0.7460219860076904),\n",
              " ('princess', 0.7424570322036743),\n",
              " ('kingdom', 0.7337412238121033),\n",
              " ('monarch', 0.721449077129364),\n",
              " ('eldest', 0.7184861898422241),\n",
              " ('widow', 0.7099431157112122)]"
            ]
          },
          "metadata": {},
          "execution_count": 37
        }
      ],
      "source": [
        "# king – man + women = ?\n",
        "model.most_similar(positive=['king', 'woman'], negative=['man']) # ベクトルの長さを正規化した上で計算"
      ]
    },
    {
      "cell_type": "code",
      "execution_count": 38,
      "metadata": {
        "colab": {
          "base_uri": "https://localhost:8080/"
        },
        "id": "PDOr6tggOaEm",
        "outputId": "d7239f47-0a87-417d-b7d9-27107a564e19"
      },
      "outputs": [
        {
          "output_type": "execute_result",
          "data": {
            "text/plain": [
              "[('madrid', 0.8346265554428101),\n",
              " ('aires', 0.8295309543609619),\n",
              " ('buenos', 0.8198583126068115),\n",
              " ('santiago', 0.7818863987922668),\n",
              " ('paris', 0.7628700137138367),\n",
              " ('caracas', 0.7536874413490295),\n",
              " ('milan', 0.7500485777854919),\n",
              " ('sao', 0.7444894313812256),\n",
              " ('valencia', 0.7351594567298889),\n",
              " ('lisbon', 0.722726047039032)]"
            ]
          },
          "metadata": {},
          "execution_count": 38
        }
      ],
      "source": [
        "# tokyo – japan + spain = ?\n",
        "model.most_similar(positive=['tokyo', 'spain'], negative=['japan'])"
      ]
    },
    {
      "cell_type": "code",
      "execution_count": 39,
      "metadata": {
        "colab": {
          "base_uri": "https://localhost:8080/"
        },
        "id": "KsFjyIJEOh-Y",
        "outputId": "cf58e871-450d-414d-ee31-70ceb0dff92b"
      },
      "outputs": [
        {
          "output_type": "execute_result",
          "data": {
            "text/plain": [
              "[('winter', 0.8243834972381592),\n",
              " ('during', 0.7977467775344849),\n",
              " ('beginning', 0.778415322303772),\n",
              " ('spring', 0.7712658643722534),\n",
              " ('autumn', 0.7544248104095459),\n",
              " ('war', 0.7430115342140198),\n",
              " ('since', 0.732937216758728),\n",
              " ('years', 0.7281008362770081),\n",
              " ('decade', 0.7250821590423584),\n",
              " ('days', 0.7241210341453552)]"
            ]
          },
          "metadata": {},
          "execution_count": 39
        }
      ],
      "source": [
        "# summer – hot + cold = ?\n",
        "model.most_similar(positive=['summer', 'cold'], negative=['hot'])"
      ]
    },
    {
      "cell_type": "code",
      "execution_count": 40,
      "metadata": {
        "colab": {
          "base_uri": "https://localhost:8080/"
        },
        "id": "qhXyHS2Ep88m",
        "outputId": "a665895a-fb39-43d7-e2d3-d9d14d5fb549"
      },
      "outputs": [
        {
          "output_type": "execute_result",
          "data": {
            "text/plain": [
              "[('cats', 0.9023850560188293),\n",
              " ('rats', 0.8294457793235779),\n",
              " ('animals', 0.8152007460594177),\n",
              " ('snakes', 0.7855987548828125),\n",
              " ('rabbits', 0.7810242772102356),\n",
              " ('pigs', 0.7778130173683167),\n",
              " ('pets', 0.765869677066803),\n",
              " ('birds', 0.7560611963272095),\n",
              " ('monkeys', 0.7489490509033203),\n",
              " ('elephants', 0.7420347332954407)]"
            ]
          },
          "metadata": {},
          "execution_count": 40
        }
      ],
      "source": [
        "# dogs – dog + cat = ?\n",
        "model.most_similar(positive=['dogs', 'cat'], negative=['dog'])"
      ]
    },
    {
      "cell_type": "code",
      "execution_count": 42,
      "metadata": {
        "id": "297gW9G_8Fpj",
        "colab": {
          "base_uri": "https://localhost:8080/"
        },
        "outputId": "a6ce31bc-ac2b-4a4f-b0fb-21960fef5132"
      },
      "outputs": [
        {
          "output_type": "execute_result",
          "data": {
            "text/plain": [
              "[('bean', 0.6941910982131958),\n",
              " ('mellow', 0.6923433542251587),\n",
              " ('corn', 0.681681752204895),\n",
              " ('flavor', 0.6625627279281616),\n",
              " ('honey', 0.661961555480957),\n",
              " ('juice', 0.6560705304145813),\n",
              " ('sour', 0.6540525555610657),\n",
              " ('soy', 0.6470834612846375),\n",
              " ('spice', 0.6462090015411377),\n",
              " ('spicy', 0.6450946927070618)]"
            ]
          },
          "metadata": {},
          "execution_count": 42
        }
      ],
      "source": [
        "# アナロジータスクを考えてみよう\n",
        "model.most_similar(positive=['sugar', 'sweet'], negative=['salt'])"
      ]
    },
    {
      "cell_type": "markdown",
      "source": [
        "下記の類推の例以外に代表的な類推の例を10個あげてください。\n",
        "\n",
        "# king – man + women = ?\n",
        "\n",
        "類推の例として、以下の10個を挙げます。これらは一般的な関係性を基にしたものです。\n",
        "\n",
        "brother – man + woman = sister\n",
        "（兄 – 男性 + 女性 = 姉妹）\n",
        "\n",
        "father – man + woman = mother\n",
        "（父 – 男性 + 女性 = 母）\n",
        "\n",
        "uncle – man + woman = aunt\n",
        "（叔父 – 男性 + 女性 = 叔母）\n",
        "\n",
        "nephew – man + woman = niece\n",
        "（甥 – 男性 + 女性 = 姪）\n",
        "\n",
        "hero – man + woman = heroine\n",
        "（英雄 – 男性 + 女性 = 英雄（女性形））\n",
        "\n",
        "son – man + woman = daughter\n",
        "（息子 – 男性 + 女性 = 娘）\n",
        "\n",
        "actor – man + woman = actress\n",
        "（俳優 – 男性 + 女性 = 女優）\n",
        "\n",
        "prince – man + woman = princess\n",
        "（王子 – 男性 + 女性 = 王女）\n",
        "\n",
        "lord – man + woman = lady\n",
        "（領主 – 男性 + 女性 = 貴婦人）\n",
        "\n",
        "duke – man + woman = duchess\n",
        "（公爵 – 男性 + 女性 = 公爵夫人）\n",
        "\n",
        "これらの例は、男性と女性の間の相関関係を示しており、類推の原則に基づいています。\n",
        "\n",
        "\n",
        "\n",
        "男性と女性の間の相関関係以外の類推の原則を10個あげてください。\n",
        "↓\n",
        "男性と女性の間の相関関係以外の類推の原則を10個挙げます。これらはさまざまな領域での関係性や変換を示すものです。\n",
        "\n",
        "dog – animal + cat = ?\n",
        "（犬 – 動物 + 猫 = ? → 猫）\n",
        "\n",
        "car – vehicle + bicycle = ?\n",
        "（車 – 乗り物 + 自転車 = ? → 自転車）\n",
        "\n",
        "pencil – writing instrument + brush = ?\n",
        "（鉛筆 – 筆記具 + 筆 = ? → 筆）\n",
        "\n",
        "winter – season + summer = ?\n",
        "（冬 – 季節 + 夏 = ? → 夏）\n",
        "\n",
        "doctor – profession + teacher = ?\n",
        "（医者 – 職業 + 教師 = ? → 教師）\n",
        "\n",
        "rose – flower + oak = ?\n",
        "（バラ – 花 + オーク = ? → オーク）\n",
        "\n",
        "fish – animal + apple = ?\n",
        "（魚 – 動物 + りんご = ? → りんご）\n",
        "\n",
        "London – city + country = ?\n",
        "（ロンドン – 都市 + 国 = ? → イギリス）\n",
        "\n",
        "sugar – sweet + salt = ?\n",
        "（砂糖 – 甘い + 塩 = ? → 塩）\n",
        "\n",
        "sword – weapon + shield = ?\n",
        "（剣 – 武器 + 盾 = ? → 盾）\n",
        "\n",
        "これらの例は、異なるカテゴリー間の関係を示しており、物事の類推や変換を行う際に役立ちます。\n",
        "\n",
        "//\n",
        "sugar – sweet + salt = ?\n",
        "（砂糖 – 甘い + 塩 = ? → 塩）\n"
      ],
      "metadata": {
        "id": "l8XMOPgooXxy"
      }
    },
    {
      "cell_type": "code",
      "execution_count": 44,
      "metadata": {
        "id": "RvinGOJoNop2",
        "colab": {
          "base_uri": "https://localhost:8080/"
        },
        "outputId": "e16d47d9-4e6b-4a5a-b885-707a50df892d"
      },
      "outputs": [
        {
          "output_type": "execute_result",
          "data": {
            "text/plain": [
              "[('starring', 0.7989740967750549),\n",
              " ('starred', 0.7757401466369629),\n",
              " ('comedian', 0.7539021372795105),\n",
              " ('star', 0.7513636946678162),\n",
              " ('stars', 0.7457764148712158),\n",
              " ('filmmaker', 0.7389727234840393),\n",
              " ('directed', 0.7373086810112),\n",
              " ('comedy', 0.7331476807594299),\n",
              " ('movie', 0.7316678166389465),\n",
              " ('film', 0.728330135345459)]"
            ]
          },
          "metadata": {},
          "execution_count": 44
        }
      ],
      "source": [
        "# アナロジータスクを考えてみよう\n",
        "model.most_similar(positive=['actor', 'man'], negative=['woman'])"
      ]
    },
    {
      "cell_type": "markdown",
      "metadata": {
        "id": "Pi_mDnBODfrE"
      },
      "source": [
        "\n",
        "# word2vecの学習\n",
        "- 小さめのコーパスを使って，実際にword2vecの学習をしてみよう。"
      ]
    },
    {
      "cell_type": "code",
      "execution_count": 45,
      "metadata": {
        "colab": {
          "base_uri": "https://localhost:8080/"
        },
        "id": "7nj_70eAP5Rq",
        "outputId": "59f19efd-bf58-4bdc-f901-6a9d2a72d546"
      },
      "outputs": [
        {
          "output_type": "stream",
          "name": "stderr",
          "text": [
            "[nltk_data] Downloading package gutenberg to /root/nltk_data...\n",
            "[nltk_data]   Unzipping corpora/gutenberg.zip.\n",
            "[nltk_data] Downloading package punkt to /root/nltk_data...\n",
            "[nltk_data]   Unzipping tokenizers/punkt.zip.\n"
          ]
        },
        {
          "output_type": "stream",
          "name": "stdout",
          "text": [
            "['[', 'Emma', 'by', 'Jane', 'Austen', '1816', ']']\n",
            "['VOLUME', 'I']\n",
            "['CHAPTER', 'I']\n",
            "['Emma', 'Woodhouse', ',', 'handsome', ',', 'clever', ',', 'and', 'rich', ',', 'with', 'a', 'comfortable', 'home', 'and', 'happy', 'disposition', ',', 'seemed', 'to', 'unite', 'some', 'of', 'the', 'best', 'blessings', 'of', 'existence', ';', 'and', 'had', 'lived', 'nearly', 'twenty', '-', 'one', 'years', 'in', 'the', 'world', 'with', 'very', 'little', 'to', 'distress', 'or', 'vex', 'her', '.']\n",
            "['She', 'was', 'the', 'youngest', 'of', 'the', 'two', 'daughters', 'of', 'a', 'most', 'affectionate', ',', 'indulgent', 'father', ';', 'and', 'had', ',', 'in', 'consequence', 'of', 'her', 'sister', \"'\", 's', 'marriage', ',', 'been', 'mistress', 'of', 'his', 'house', 'from', 'a', 'very', 'early', 'period', '.']\n",
            "['Her', 'mother', 'had', 'died', 'too', 'long', 'ago', 'for', 'her', 'to', 'have', 'more', 'than', 'an', 'indistinct', 'remembrance', 'of', 'her', 'caresses', ';', 'and', 'her', 'place', 'had', 'been', 'supplied', 'by', 'an', 'excellent', 'woman', 'as', 'governess', ',', 'who', 'had', 'fallen', 'little', 'short', 'of', 'a', 'mother', 'in', 'affection', '.']\n",
            "['Sixteen', 'years', 'had', 'Miss', 'Taylor', 'been', 'in', 'Mr', '.', 'Woodhouse', \"'\", 's', 'family', ',', 'less', 'as', 'a', 'governess', 'than', 'a', 'friend', ',', 'very', 'fond', 'of', 'both', 'daughters', ',', 'but', 'particularly', 'of', 'Emma', '.']\n",
            "['Between', '_them_', 'it', 'was', 'more', 'the', 'intimacy', 'of', 'sisters', '.']\n",
            "['Even', 'before', 'Miss', 'Taylor', 'had', 'ceased', 'to', 'hold', 'the', 'nominal', 'office', 'of', 'governess', ',', 'the', 'mildness', 'of', 'her', 'temper', 'had', 'hardly', 'allowed', 'her', 'to', 'impose', 'any', 'restraint', ';', 'and', 'the', 'shadow', 'of', 'authority', 'being', 'now', 'long', 'passed', 'away', ',', 'they', 'had', 'been', 'living', 'together', 'as', 'friend', 'and', 'friend', 'very', 'mutually', 'attached', ',', 'and', 'Emma', 'doing', 'just', 'what', 'she', 'liked', ';', 'highly', 'esteeming', 'Miss', 'Taylor', \"'\", 's', 'judgment', ',', 'but', 'directed', 'chiefly', 'by', 'her', 'own', '.']\n",
            "['The', 'real', 'evils', ',', 'indeed', ',', 'of', 'Emma', \"'\", 's', 'situation', 'were', 'the', 'power', 'of', 'having', 'rather', 'too', 'much', 'her', 'own', 'way', ',', 'and', 'a', 'disposition', 'to', 'think', 'a', 'little', 'too', 'well', 'of', 'herself', ';', 'these', 'were', 'the', 'disadvantages', 'which', 'threatened', 'alloy', 'to', 'her', 'many', 'enjoyments', '.']\n"
          ]
        }
      ],
      "source": [
        "# nltkをインポート\n",
        "import nltk\n",
        "\n",
        "# nltkからgutenbergコーパスをダウンロード\n",
        "nltk.download('gutenberg')\n",
        "\n",
        "# nltkからトークナイザpunktをダウンロード\n",
        "nltk.download('punkt')\n",
        "\n",
        "# gutenbergをcorpusとしてインポート\n",
        "from nltk.corpus import gutenberg as corpus\n",
        "\n",
        "# コーパスを読み込み\n",
        "sentences = corpus.sents(corpus.fileids())\n",
        "\n",
        "# 最初の10000文をスライス\n",
        "sentences = sentences[:10000]\n",
        "\n",
        "# 最初の10件を表示\n",
        "for sentence in sentences[:10]:\n",
        "  print(sentence)"
      ]
    },
    {
      "cell_type": "code",
      "execution_count": 46,
      "metadata": {
        "id": "9B25Pf9SDNl9"
      },
      "outputs": [],
      "source": [
        "# gensim.modelsからWord2VecとKeyedVectorsをインポート\n",
        "from gensim.models import Word2Vec\n",
        "from gensim.models import KeyedVectors\n",
        "\n",
        "# 100次元の単語ベクトルを学習\n",
        "model = Word2Vec(sentences, vector_size=100)\n",
        "\n",
        "# 学習済み単語ベクトルをテキストファイルとして保存\n",
        "model.wv.save_word2vec_format(f'word2vec_test.txt')"
      ]
    },
    {
      "cell_type": "code",
      "execution_count": 47,
      "metadata": {
        "colab": {
          "base_uri": "https://localhost:8080/"
        },
        "id": "sbcIjrzO2r3n",
        "outputId": "0d4e40db-4b07-4b1c-bce3-45d711b8288b"
      },
      "outputs": [
        {
          "output_type": "stream",
          "name": "stdout",
          "text": [
            "Mounted at /content/drive\n"
          ]
        }
      ],
      "source": [
        "# ドライブをマウント\n",
        "from google.colab import drive\n",
        "drive.mount('/content/drive')"
      ]
    },
    {
      "cell_type": "code",
      "execution_count": 48,
      "metadata": {
        "id": "Hq8TQ4JXNbRH"
      },
      "outputs": [],
      "source": [
        "# 学習済み単語ベクトルを読み込み\n",
        "model = KeyedVectors.load_word2vec_format(f'word2vec_test.txt')"
      ]
    },
    {
      "cell_type": "code",
      "execution_count": 49,
      "metadata": {
        "colab": {
          "base_uri": "https://localhost:8080/"
        },
        "id": "nDTftr-V3tBa",
        "outputId": "414bdf82-3223-47f1-ee88-564b9540183e"
      },
      "outputs": [
        {
          "output_type": "execute_result",
          "data": {
            "text/plain": [
              "array([[ 7.7955589e-02,  5.8776850e-01,  7.3673135e-01, ...,\n",
              "        -4.3132928e-01, -2.5974691e-01, -4.2303714e-01],\n",
              "       [ 1.5435496e-01,  4.1041508e-01,  6.6994321e-01, ...,\n",
              "        -4.8306370e-01, -2.7551803e-01, -4.5754027e-01],\n",
              "       [-7.3981375e-01, -1.3421412e-01, -1.6169542e-01, ...,\n",
              "        -5.1216257e-01, -1.3599423e-01, -7.2931439e-01],\n",
              "       ...,\n",
              "       [-6.1387639e-02, -1.3250543e-04, -1.6473858e-02, ...,\n",
              "        -5.3480152e-02, -6.1255977e-03, -4.2148318e-02],\n",
              "       [-3.8656056e-02,  2.1283774e-02,  8.8656666e-03, ...,\n",
              "        -7.0638411e-02,  9.1448432e-04, -2.6806589e-02],\n",
              "       [-1.8036056e-02,  2.7324442e-02, -8.7637976e-03, ...,\n",
              "        -3.5724688e-02, -3.2291540e-03, -6.0086264e-03]], dtype=float32)"
            ]
          },
          "metadata": {},
          "execution_count": 49
        }
      ],
      "source": [
        "# 全ベクトル確認\n",
        "model.vectors"
      ]
    },
    {
      "cell_type": "code",
      "execution_count": 50,
      "metadata": {
        "colab": {
          "base_uri": "https://localhost:8080/"
        },
        "id": "Ebau8UjO3ze8",
        "outputId": "bb1b30ee-b464-4735-c217-d9c42862c2bb"
      },
      "outputs": [
        {
          "output_type": "execute_result",
          "data": {
            "text/plain": [
              "(3053, 100)"
            ]
          },
          "metadata": {},
          "execution_count": 50
        }
      ],
      "source": [
        "# モデルサイズ確認\n",
        "# 100次元の単語ベクトルが3053語分格納されている\n",
        "model.vectors.shape"
      ]
    },
    {
      "cell_type": "code",
      "execution_count": 51,
      "metadata": {
        "colab": {
          "base_uri": "https://localhost:8080/"
        },
        "id": "MYiIVbVe0er6",
        "outputId": "56253522-8d1f-4e0c-9d7d-15235017ca8c"
      },
      "outputs": [
        {
          "output_type": "execute_result",
          "data": {
            "text/plain": [
              "[',',\n",
              " '.',\n",
              " 'the',\n",
              " 'to',\n",
              " 'and',\n",
              " 'of',\n",
              " 'a',\n",
              " 'I',\n",
              " 'was',\n",
              " 'her',\n",
              " ';',\n",
              " 'in',\n",
              " 'it',\n",
              " 'not',\n",
              " 'be',\n",
              " '\"',\n",
              " 'had',\n",
              " 'she',\n",
              " 'that',\n",
              " 'you',\n",
              " 'as',\n",
              " 'he',\n",
              " 'for',\n",
              " 'have',\n",
              " 'with',\n",
              " 'his',\n",
              " 'but',\n",
              " '--',\n",
              " 'is',\n",
              " 'very']"
            ]
          },
          "metadata": {},
          "execution_count": 51
        }
      ],
      "source": [
        "# 単語リストの最初の30個\n",
        "model.index_to_key[:30]"
      ]
    },
    {
      "cell_type": "code",
      "execution_count": 52,
      "metadata": {
        "colab": {
          "base_uri": "https://localhost:8080/"
        },
        "id": "NPOyhHYbN5eT",
        "outputId": "2b024803-c4e5-42ea-bfda-d2830790b9f3"
      },
      "outputs": [
        {
          "output_type": "execute_result",
          "data": {
            "text/plain": [
              "[('come', 0.9739564061164856),\n",
              " ('speak', 0.968802273273468),\n",
              " ('get', 0.9526566863059998),\n",
              " ('bear', 0.9448437094688416),\n",
              " ('submit', 0.9448361992835999),\n",
              " ('call', 0.9419077634811401),\n",
              " ('please', 0.9401644468307495),\n",
              " ('marry', 0.9391088485717773),\n",
              " ('begin', 0.9377005696296692),\n",
              " ('afford', 0.9375418424606323)]"
            ]
          },
          "metadata": {},
          "execution_count": 52
        }
      ],
      "source": [
        "# 類似単語検索\n",
        "model.most_similar('go', topn=10)"
      ]
    },
    {
      "cell_type": "code",
      "execution_count": 54,
      "metadata": {
        "colab": {
          "base_uri": "https://localhost:8080/"
        },
        "id": "UNUOBof-0YW2",
        "outputId": "02462a51-f6b4-4295-b861-5be0384567df"
      },
      "outputs": [
        {
          "output_type": "execute_result",
          "data": {
            "text/plain": [
              "[('you', 0.9306491017341614),\n",
              " ('we', 0.9227112531661987),\n",
              " ('You', 0.8867977261543274),\n",
              " ('sure', 0.8842030167579651),\n",
              " ('We', 0.8495462536811829),\n",
              " ('afraid', 0.8344890475273132),\n",
              " ('how', 0.8246755599975586),\n",
              " ('what', 0.8181255459785461),\n",
              " ('glad', 0.817741334438324),\n",
              " ('say', 0.8174133896827698)]"
            ]
          },
          "metadata": {},
          "execution_count": 54
        }
      ],
      "source": [
        "# 類似単語検索\n",
        "model.most_similar('I', topn=10)"
      ]
    },
    {
      "cell_type": "markdown",
      "metadata": {
        "id": "m_fixjFE3oAf"
      },
      "source": [
        "# おまけ：日本語のword2vecモデル\n",
        "- 簡単に利用可能な日本語のword2vecは重いので，後程，試してみてください。"
      ]
    },
    {
      "cell_type": "code",
      "execution_count": 55,
      "metadata": {
        "id": "w5MY652K2s2S"
      },
      "outputs": [],
      "source": [
        "# fastText（https://fasttext.cc/）と呼ばれるモデルを使用します。\n",
        "# データが大きいので，読み込みに10分程度かかります。\n",
        "\n",
        "model = gensim.models.KeyedVectors.load_word2vec_format('https://dl.fbaipublicfiles.com/fasttext/vectors-crawl/cc.ja.300.vec.gz', binary=False)"
      ]
    },
    {
      "cell_type": "code",
      "execution_count": 56,
      "metadata": {
        "colab": {
          "base_uri": "https://localhost:8080/"
        },
        "id": "Wvq1PqV13z7a",
        "outputId": "17bfd170-695e-4e27-d3fd-5a52b040c666"
      },
      "outputs": [
        {
          "output_type": "execute_result",
          "data": {
            "text/plain": [
              "[('リンゴ', 0.8323358297348022),\n",
              " ('林檎', 0.6918197870254517),\n",
              " ('みかん', 0.6908637285232544),\n",
              " ('\\uf34e', 0.689182698726654),\n",
              " ('ストロベ', 0.6018790006637573),\n",
              " ('プレザーブ', 0.5951715111732483),\n",
              " ('アップルパイ', 0.5803444981575012),\n",
              " ('シナノゴールド', 0.5796619653701782),\n",
              " ('ぶどう', 0.577567994594574),\n",
              " ('ブルーベリー', 0.5758102536201477)]"
            ]
          },
          "metadata": {},
          "execution_count": 56
        }
      ],
      "source": [
        "# 類似単語検索\n",
        "model.most_similar('りんご', topn=10)"
      ]
    },
    {
      "cell_type": "code",
      "execution_count": 57,
      "metadata": {
        "colab": {
          "base_uri": "https://localhost:8080/"
        },
        "id": "S_qNkvplhehf",
        "outputId": "67d3723b-e42d-4daf-dcf7-c49dce7bf07c"
      },
      "outputs": [
        {
          "output_type": "execute_result",
          "data": {
            "text/plain": [
              "[('女王', 0.4983246922492981),\n",
              " ('ラジオキッズ', 0.4979418218135834),\n",
              " ('王さま', 0.49087509512901306),\n",
              " ('熟', 0.4839142858982086),\n",
              " ('王妃', 0.4745190143585205),\n",
              " ('アンナ・レオノーウェンズ', 0.4703938066959381),\n",
              " ('タプチム', 0.45472589135169983),\n",
              " ('ゲムケン', 0.4503451883792877),\n",
              " ('裸', 0.4499165415763855),\n",
              " ('お姫様', 0.4497036933898926)]"
            ]
          },
          "metadata": {},
          "execution_count": 57
        }
      ],
      "source": [
        "# 類推\n",
        "# 王様−男＋女＝？\n",
        "model.most_similar(positive=['王様', '女'], negative=['男'])"
      ]
    }
  ],
  "metadata": {
    "colab": {
      "toc_visible": true,
      "provenance": [],
      "include_colab_link": true
    },
    "kernelspec": {
      "display_name": "Python 3",
      "name": "python3"
    },
    "language_info": {
      "name": "python"
    }
  },
  "nbformat": 4,
  "nbformat_minor": 0
}